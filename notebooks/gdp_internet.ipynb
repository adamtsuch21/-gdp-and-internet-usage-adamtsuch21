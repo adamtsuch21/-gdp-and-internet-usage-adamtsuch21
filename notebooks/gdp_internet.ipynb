{
 "cells": [
  {
   "cell_type": "code",
   "execution_count": 308,
   "metadata": {},
   "outputs": [],
   "source": [
    "import pandas as pd\n",
    "import numpy as np\n",
    "import matplotlib.pyplot as plt\n",
    "import seaborn as sns\n",
    "import os"
   ]
  },
  {
   "cell_type": "code",
   "execution_count": 309,
   "metadata": {},
   "outputs": [],
   "source": [
    "%matplotlib inline"
   ]
  },
  {
   "cell_type": "code",
   "execution_count": 310,
   "metadata": {},
   "outputs": [
    {
     "name": "stdout",
     "output_type": "stream",
     "text": [
      "/Users/adamtsuchiyama/Documents/gdp-and-internet-usage-adamtsuch21/notebooks\n"
     ]
    }
   ],
   "source": [
    "print(os.getcwd())"
   ]
  },
  {
   "cell_type": "markdown",
   "metadata": {},
   "source": [
    "gdp csv file loaded:"
   ]
  },
  {
   "cell_type": "code",
   "execution_count": 311,
   "metadata": {},
   "outputs": [],
   "source": [
    "gdp_df = pd.read_csv(\"/Users/adamtsuchiyama/Documents/gdp-and-internet-usage-adamtsuch21/data/gdp_percapita.csv\", nrows=6729)"
   ]
  },
  {
   "cell_type": "markdown",
   "metadata": {},
   "source": [
    "First 6 rows of gdp:"
   ]
  },
  {
   "cell_type": "code",
   "execution_count": 312,
   "metadata": {
    "scrolled": true
   },
   "outputs": [
    {
     "name": "stdout",
     "output_type": "stream",
     "text": [
      "  Country or Area  Year        Value  Value Footnotes\n",
      "0     Afghanistan  2018  1734.723214              NaN\n",
      "1     Afghanistan  2017  1758.465636              NaN\n",
      "2     Afghanistan  2016  1757.023490              NaN\n",
      "3     Afghanistan  2015  1766.593077              NaN\n",
      "4     Afghanistan  2014  1795.735834              NaN\n",
      "5     Afghanistan  2013  1807.762344              NaN\n"
     ]
    }
   ],
   "source": [
    "print(gdp_df.head(6))"
   ]
  },
  {
   "cell_type": "markdown",
   "metadata": {},
   "source": [
    "internet csv file loaded:"
   ]
  },
  {
   "cell_type": "code",
   "execution_count": 313,
   "metadata": {},
   "outputs": [],
   "source": [
    "internet_df = pd.read_csv(\"/Users/adamtsuchiyama/Documents/gdp-and-internet-usage-adamtsuch21/data/internet_use.csv\", nrows=4495)"
   ]
  },
  {
   "cell_type": "markdown",
   "metadata": {},
   "source": [
    "First 6 rows of internet:"
   ]
  },
  {
   "cell_type": "code",
   "execution_count": 314,
   "metadata": {
    "scrolled": true
   },
   "outputs": [
    {
     "name": "stdout",
     "output_type": "stream",
     "text": [
      "  Country or Area  Year     Value  Value Footnotes\n",
      "0     Afghanistan  2014  6.390000              NaN\n",
      "1     Afghanistan  2013  5.900000              NaN\n",
      "2     Afghanistan  2012  5.454545              NaN\n",
      "3     Afghanistan  2011  5.000000              NaN\n",
      "4     Afghanistan  2010  4.000000              NaN\n",
      "5     Afghanistan  2009  3.550000              NaN\n"
     ]
    }
   ],
   "source": [
    "print(internet_df.head(6))"
   ]
  },
  {
   "cell_type": "markdown",
   "metadata": {},
   "source": [
    "Shape of gdp: 6729 rows, 4 columns"
   ]
  },
  {
   "cell_type": "code",
   "execution_count": 315,
   "metadata": {
    "scrolled": true
   },
   "outputs": [
    {
     "name": "stdout",
     "output_type": "stream",
     "text": [
      "(6729, 4)\n"
     ]
    }
   ],
   "source": [
    "print(np.shape(gdp_df))"
   ]
  },
  {
   "cell_type": "markdown",
   "metadata": {},
   "source": [
    "Shape of internet: 4495 rows, 4 columns"
   ]
  },
  {
   "cell_type": "code",
   "execution_count": 316,
   "metadata": {
    "scrolled": true
   },
   "outputs": [
    {
     "name": "stdout",
     "output_type": "stream",
     "text": [
      "(4495, 4)\n"
     ]
    }
   ],
   "source": [
    "print(np.shape(internet_df))"
   ]
  },
  {
   "cell_type": "markdown",
   "metadata": {},
   "source": [
    "Data types of gdp:"
   ]
  },
  {
   "cell_type": "code",
   "execution_count": 317,
   "metadata": {},
   "outputs": [
    {
     "name": "stdout",
     "output_type": "stream",
     "text": [
      "Country or Area     object\n",
      "Year                 int64\n",
      "Value              float64\n",
      "Value Footnotes    float64\n",
      "dtype: object\n"
     ]
    }
   ],
   "source": [
    "print(gdp_df.dtypes)"
   ]
  },
  {
   "cell_type": "markdown",
   "metadata": {},
   "source": [
    "Data types of internet:"
   ]
  },
  {
   "cell_type": "code",
   "execution_count": 318,
   "metadata": {
    "scrolled": true
   },
   "outputs": [
    {
     "name": "stdout",
     "output_type": "stream",
     "text": [
      "Country or Area     object\n",
      "Year                 int64\n",
      "Value              float64\n",
      "Value Footnotes    float64\n",
      "dtype: object\n"
     ]
    }
   ],
   "source": [
    "print(internet_df.dtypes)"
   ]
  },
  {
   "cell_type": "markdown",
   "metadata": {},
   "source": [
    "Last 10 rows of gdp:"
   ]
  },
  {
   "cell_type": "code",
   "execution_count": 319,
   "metadata": {
    "scrolled": true
   },
   "outputs": [
    {
     "name": "stdout",
     "output_type": "stream",
     "text": [
      "     Country or Area  Year        Value  Value Footnotes\n",
      "6719        Zimbabwe  1999  3054.064189              NaN\n",
      "6720        Zimbabwe  1998  3099.076182              NaN\n",
      "6721        Zimbabwe  1997  3036.422224              NaN\n",
      "6722        Zimbabwe  1996  2985.856605              NaN\n",
      "6723        Zimbabwe  1995  2736.486436              NaN\n",
      "6724        Zimbabwe  1994  2768.309953              NaN\n",
      "6725        Zimbabwe  1993  2572.870395              NaN\n",
      "6726        Zimbabwe  1992  2591.007534              NaN\n",
      "6727        Zimbabwe  1991  2906.272849              NaN\n",
      "6728        Zimbabwe  1990  2819.549467              NaN\n"
     ]
    }
   ],
   "source": [
    "print(gdp_df.tail(10))"
   ]
  },
  {
   "cell_type": "markdown",
   "metadata": {},
   "source": [
    "Last 10 rows of internet:"
   ]
  },
  {
   "cell_type": "code",
   "execution_count": 320,
   "metadata": {
    "scrolled": true
   },
   "outputs": [
    {
     "name": "stdout",
     "output_type": "stream",
     "text": [
      "     Country or Area  Year     Value  Value Footnotes\n",
      "4485        Zimbabwe  2002  3.994356              NaN\n",
      "4486        Zimbabwe  2001  0.799846              NaN\n",
      "4487        Zimbabwe  2000  0.401434              NaN\n",
      "4488        Zimbabwe  1999  0.161676              NaN\n",
      "4489        Zimbabwe  1998  0.081648              NaN\n",
      "4490        Zimbabwe  1997  0.033080              NaN\n",
      "4491        Zimbabwe  1996  0.016790              NaN\n",
      "4492        Zimbabwe  1995  0.007684              NaN\n",
      "4493        Zimbabwe  1994  0.001739              NaN\n",
      "4494        Zimbabwe  1990  0.000000              NaN\n"
     ]
    }
   ],
   "source": [
    "print(internet_df.tail(10))"
   ]
  },
  {
   "cell_type": "markdown",
   "metadata": {},
   "source": [
    "Dropped \"Value Footnotes\" from gdp:"
   ]
  },
  {
   "cell_type": "code",
   "execution_count": 321,
   "metadata": {},
   "outputs": [],
   "source": [
    "gdp_df = gdp_df.drop(\"Value Footnotes\", axis=1)"
   ]
  },
  {
   "cell_type": "code",
   "execution_count": 322,
   "metadata": {
    "scrolled": true
   },
   "outputs": [
    {
     "name": "stdout",
     "output_type": "stream",
     "text": [
      "  Country or Area  Year        Value\n",
      "0     Afghanistan  2018  1734.723214\n",
      "1     Afghanistan  2017  1758.465636\n",
      "2     Afghanistan  2016  1757.023490\n",
      "3     Afghanistan  2015  1766.593077\n",
      "4     Afghanistan  2014  1795.735834\n"
     ]
    }
   ],
   "source": [
    "print(gdp_df.head())"
   ]
  },
  {
   "cell_type": "markdown",
   "metadata": {},
   "source": [
    "Dropped \"Value Footnotes\" from internet:"
   ]
  },
  {
   "cell_type": "code",
   "execution_count": 323,
   "metadata": {},
   "outputs": [],
   "source": [
    "internet_df = internet_df.drop(\"Value Footnotes\", axis=1)"
   ]
  },
  {
   "cell_type": "code",
   "execution_count": 324,
   "metadata": {
    "scrolled": true
   },
   "outputs": [
    {
     "name": "stdout",
     "output_type": "stream",
     "text": [
      "  Country or Area  Year     Value\n",
      "0     Afghanistan  2014  6.390000\n",
      "1     Afghanistan  2013  5.900000\n",
      "2     Afghanistan  2012  5.454545\n",
      "3     Afghanistan  2011  5.000000\n",
      "4     Afghanistan  2010  4.000000\n"
     ]
    }
   ],
   "source": [
    "print(internet_df.head())"
   ]
  },
  {
   "cell_type": "markdown",
   "metadata": {},
   "source": [
    "Changed gdp column labels:"
   ]
  },
  {
   "cell_type": "code",
   "execution_count": 325,
   "metadata": {},
   "outputs": [],
   "source": [
    "gdp_df = gdp_df.rename(columns={\"Country or Area\" : \"Country\", \"Year\" : \"Year\", \"Value\" : \"GDP_Per_Capita\"})"
   ]
  },
  {
   "cell_type": "code",
   "execution_count": 326,
   "metadata": {},
   "outputs": [
    {
     "name": "stdout",
     "output_type": "stream",
     "text": [
      "       Country  Year  GDP_Per_Capita\n",
      "0  Afghanistan  2018     1734.723214\n",
      "1  Afghanistan  2017     1758.465636\n",
      "2  Afghanistan  2016     1757.023490\n",
      "3  Afghanistan  2015     1766.593077\n",
      "4  Afghanistan  2014     1795.735834\n"
     ]
    }
   ],
   "source": [
    "print(gdp_df.head())"
   ]
  },
  {
   "cell_type": "markdown",
   "metadata": {},
   "source": [
    "Changed internet column labels:"
   ]
  },
  {
   "cell_type": "code",
   "execution_count": 327,
   "metadata": {},
   "outputs": [],
   "source": [
    "internet_df = internet_df.rename(columns={\"Country or Area\" : \"Country\", \"Year\" : \"Year\", \"Value\" : \"Internet_Users_Pct\"})"
   ]
  },
  {
   "cell_type": "code",
   "execution_count": 328,
   "metadata": {
    "scrolled": true
   },
   "outputs": [
    {
     "name": "stdout",
     "output_type": "stream",
     "text": [
      "       Country  Year  Internet_Users_Pct\n",
      "0  Afghanistan  2014            6.390000\n",
      "1  Afghanistan  2013            5.900000\n",
      "2  Afghanistan  2012            5.454545\n",
      "3  Afghanistan  2011            5.000000\n",
      "4  Afghanistan  2010            4.000000\n"
     ]
    }
   ],
   "source": [
    "print(internet_df.head())"
   ]
  },
  {
   "cell_type": "markdown",
   "metadata": {},
   "source": [
    "Merged gdp and internet:"
   ]
  },
  {
   "cell_type": "code",
   "execution_count": 329,
   "metadata": {},
   "outputs": [],
   "source": [
    "gdp_and_internet_use = pd.merge(gdp_df, internet_df, on=[\"Country\", \"Year\"])"
   ]
  },
  {
   "cell_type": "markdown",
   "metadata": {},
   "source": [
    "First 5 rows of merged dataset:"
   ]
  },
  {
   "cell_type": "code",
   "execution_count": 330,
   "metadata": {},
   "outputs": [
    {
     "name": "stdout",
     "output_type": "stream",
     "text": [
      "       Country  Year  GDP_Per_Capita  Internet_Users_Pct\n",
      "0  Afghanistan  2014     1795.735834            6.390000\n",
      "1  Afghanistan  2013     1807.762344            5.900000\n",
      "2  Afghanistan  2012     1772.764974            5.454545\n",
      "3  Afghanistan  2011     1626.764793            5.000000\n",
      "4  Afghanistan  2010     1671.581238            4.000000\n"
     ]
    }
   ],
   "source": [
    "print(gdp_and_internet_use.head())"
   ]
  },
  {
   "cell_type": "markdown",
   "metadata": {},
   "source": [
    "Last 5 rows of merged dataset:"
   ]
  },
  {
   "cell_type": "code",
   "execution_count": 331,
   "metadata": {
    "scrolled": true
   },
   "outputs": [
    {
     "name": "stdout",
     "output_type": "stream",
     "text": [
      "       Country  Year  GDP_Per_Capita  Internet_Users_Pct\n",
      "3514  Zimbabwe  1997     3036.422224            0.033080\n",
      "3515  Zimbabwe  1996     2985.856605            0.016790\n",
      "3516  Zimbabwe  1995     2736.486436            0.007684\n",
      "3517  Zimbabwe  1994     2768.309953            0.001739\n",
      "3518  Zimbabwe  1990     2819.549467            0.000000\n"
     ]
    }
   ],
   "source": [
    "print(gdp_and_internet_use.tail())"
   ]
  },
  {
   "cell_type": "markdown",
   "metadata": {},
   "source": [
    "Shape of merged dataset: 3520 rows, 4 columns"
   ]
  },
  {
   "cell_type": "code",
   "execution_count": 332,
   "metadata": {
    "scrolled": true
   },
   "outputs": [
    {
     "name": "stdout",
     "output_type": "stream",
     "text": [
      "(3519, 4)\n"
     ]
    }
   ],
   "source": [
    "print(np.shape(gdp_and_internet_use))"
   ]
  },
  {
   "cell_type": "markdown",
   "metadata": {},
   "source": [
    "Subset for only years 2004, 2009, 2014:"
   ]
  },
  {
   "cell_type": "code",
   "execution_count": 333,
   "metadata": {},
   "outputs": [],
   "source": [
    "gdp_and_internet_subset = gdp_and_internet_use[gdp_and_internet_use[\"Year\"].isin([2004, 2009, 2014])]"
   ]
  },
  {
   "cell_type": "markdown",
   "metadata": {},
   "source": [
    "Top 5 rows of subset:"
   ]
  },
  {
   "cell_type": "code",
   "execution_count": 334,
   "metadata": {},
   "outputs": [
    {
     "name": "stdout",
     "output_type": "stream",
     "text": [
      "        Country  Year  GDP_Per_Capita  Internet_Users_Pct\n",
      "0   Afghanistan  2014     1795.735834            6.390000\n",
      "5   Afghanistan  2009     1502.354073            3.550000\n",
      "10  Afghanistan  2004     1025.208245            0.105809\n",
      "13      Albania  2014    10700.993216           60.100000\n",
      "18      Albania  2009     9525.377979           41.200000\n"
     ]
    }
   ],
   "source": [
    "print(gdp_and_internet_subset.head())"
   ]
  },
  {
   "cell_type": "markdown",
   "metadata": {},
   "source": [
    "Subset for just 2004:"
   ]
  },
  {
   "cell_type": "code",
   "execution_count": 335,
   "metadata": {},
   "outputs": [],
   "source": [
    "gdp_int_04 = gdp_and_internet_subset[gdp_and_internet_subset[\"Year\"] == 2004]"
   ]
  },
  {
   "cell_type": "markdown",
   "metadata": {},
   "source": [
    "Top 5 rows for 2004 subset:"
   ]
  },
  {
   "cell_type": "code",
   "execution_count": 336,
   "metadata": {
    "scrolled": true
   },
   "outputs": [
    {
     "name": "stdout",
     "output_type": "stream",
     "text": [
      "                Country  Year  GDP_Per_Capita  Internet_Users_Pct\n",
      "10          Afghanistan  2004     1025.208245            0.105809\n",
      "23              Albania  2004     7001.054082            2.420388\n",
      "44              Algeria  2004    11845.170512            4.634475\n",
      "66               Angola  2004     4604.657044            0.464815\n",
      "86  Antigua and Barbuda  2004    21161.123532           24.266544\n"
     ]
    }
   ],
   "source": [
    "print(gdp_int_04.head())"
   ]
  },
  {
   "cell_type": "markdown",
   "metadata": {},
   "source": [
    "Subset for just 2009:"
   ]
  },
  {
   "cell_type": "code",
   "execution_count": 337,
   "metadata": {},
   "outputs": [],
   "source": [
    "gdp_int_09 = gdp_and_internet_subset[gdp_and_internet_subset[\"Year\"] == 2009]"
   ]
  },
  {
   "cell_type": "markdown",
   "metadata": {},
   "source": [
    "Top 5 rows for 2009 subset:"
   ]
  },
  {
   "cell_type": "code",
   "execution_count": 338,
   "metadata": {},
   "outputs": [
    {
     "name": "stdout",
     "output_type": "stream",
     "text": [
      "                Country  Year  GDP_Per_Capita  Internet_Users_Pct\n",
      "5           Afghanistan  2009     1502.354073                3.55\n",
      "18              Albania  2009     9525.377979               41.20\n",
      "39              Algeria  2009    12697.690780               11.23\n",
      "61               Angola  2009     6292.534856                6.00\n",
      "81  Antigua and Barbuda  2009    22568.626530               42.00\n"
     ]
    }
   ],
   "source": [
    "print(gdp_int_09.head())"
   ]
  },
  {
   "cell_type": "markdown",
   "metadata": {},
   "source": [
    "Subset for just 2014:"
   ]
  },
  {
   "cell_type": "code",
   "execution_count": 339,
   "metadata": {},
   "outputs": [],
   "source": [
    "gdp_int_14 = gdp_and_internet_subset[gdp_and_internet_subset[\"Year\"] == 2014]"
   ]
  },
  {
   "cell_type": "markdown",
   "metadata": {},
   "source": [
    "Top 5 rows for 2014 subset:"
   ]
  },
  {
   "cell_type": "code",
   "execution_count": 340,
   "metadata": {},
   "outputs": [
    {
     "name": "stdout",
     "output_type": "stream",
     "text": [
      "                Country  Year  GDP_Per_Capita  Internet_Users_Pct\n",
      "0           Afghanistan  2014     1795.735834                6.39\n",
      "13              Albania  2014    10700.993216               60.10\n",
      "34              Algeria  2014    13557.769757               18.09\n",
      "56               Angola  2014     6813.052106               21.26\n",
      "76  Antigua and Barbuda  2014    20440.540555               64.00\n"
     ]
    }
   ],
   "source": [
    "print(gdp_int_14.head())"
   ]
  },
  {
   "cell_type": "markdown",
   "metadata": {},
   "source": [
    "Highest internet users pct for 2014: Iceland, 98.16%"
   ]
  },
  {
   "cell_type": "code",
   "execution_count": 341,
   "metadata": {
    "scrolled": true
   },
   "outputs": [
    {
     "name": "stdout",
     "output_type": "stream",
     "text": [
      "      Country  Year  GDP_Per_Capita  Internet_Users_Pct\n",
      "1395  Iceland  2014    42774.888849               98.16\n"
     ]
    }
   ],
   "source": [
    "print(gdp_int_14[gdp_int_14[\"Internet_Users_Pct\"] == gdp_int_14[\"Internet_Users_Pct\"].max()])"
   ]
  },
  {
   "cell_type": "markdown",
   "metadata": {},
   "source": [
    "Highest internet users pct for 2004: Sweden, 83.89%"
   ]
  },
  {
   "cell_type": "code",
   "execution_count": 342,
   "metadata": {
    "scrolled": true
   },
   "outputs": [
    {
     "name": "stdout",
     "output_type": "stream",
     "text": [
      "     Country  Year  GDP_Per_Capita  Internet_Users_Pct\n",
      "3002  Sweden  2004    40177.850408               83.89\n"
     ]
    }
   ],
   "source": [
    "print(gdp_int_04[gdp_int_04[\"Internet_Users_Pct\"] == gdp_int_04[\"Internet_Users_Pct\"].max()])"
   ]
  },
  {
   "cell_type": "markdown",
   "metadata": {},
   "source": [
    "Highest internet users pct for 2009: Iceland, 93.0%"
   ]
  },
  {
   "cell_type": "code",
   "execution_count": 343,
   "metadata": {
    "scrolled": true
   },
   "outputs": [
    {
     "name": "stdout",
     "output_type": "stream",
     "text": [
      "      Country  Year  GDP_Per_Capita  Internet_Users_Pct\n",
      "1400  Iceland  2009    41505.084834                93.0\n"
     ]
    }
   ],
   "source": [
    "print(gdp_int_09[gdp_int_09[\"Internet_Users_Pct\"] == gdp_int_09[\"Internet_Users_Pct\"].max()])"
   ]
  },
  {
   "cell_type": "markdown",
   "metadata": {},
   "source": [
    "Lowest internet users pct for 2014: Timor-Leste, 1.14%"
   ]
  },
  {
   "cell_type": "code",
   "execution_count": 344,
   "metadata": {
    "scrolled": true
   },
   "outputs": [
    {
     "name": "stdout",
     "output_type": "stream",
     "text": [
      "          Country  Year  GDP_Per_Capita  Internet_Users_Pct\n",
      "3104  Timor-Leste  2014     6466.737732                1.14\n"
     ]
    }
   ],
   "source": [
    "print(gdp_int_14[gdp_int_14[\"Internet_Users_Pct\"] == gdp_int_14[\"Internet_Users_Pct\"].min()])"
   ]
  },
  {
   "cell_type": "markdown",
   "metadata": {},
   "source": [
    "Lowest internet users pct for 2004: Myanmar, 0.024%"
   ]
  },
  {
   "cell_type": "code",
   "execution_count": 345,
   "metadata": {
    "scrolled": true
   },
   "outputs": [
    {
     "name": "stdout",
     "output_type": "stream",
     "text": [
      "      Country  Year  GDP_Per_Capita  Internet_Users_Pct\n",
      "2146  Myanmar  2004     1999.710075            0.024337\n"
     ]
    }
   ],
   "source": [
    "print(gdp_int_04[gdp_int_04[\"Internet_Users_Pct\"] == gdp_int_04[\"Internet_Users_Pct\"].min()])"
   ]
  },
  {
   "cell_type": "markdown",
   "metadata": {},
   "source": [
    "Lowest internet users pct for 2009: Timor-Leste, 0.18%"
   ]
  },
  {
   "cell_type": "code",
   "execution_count": 346,
   "metadata": {
    "scrolled": true
   },
   "outputs": [
    {
     "name": "stdout",
     "output_type": "stream",
     "text": [
      "          Country  Year  GDP_Per_Capita  Internet_Users_Pct\n",
      "3109  Timor-Leste  2009     9275.529371            0.185252\n"
     ]
    }
   ],
   "source": [
    "print(gdp_int_09[gdp_int_09[\"Internet_Users_Pct\"] == gdp_int_09[\"Internet_Users_Pct\"].min()])"
   ]
  },
  {
   "cell_type": "markdown",
   "metadata": {},
   "source": [
    "Highest GDP for 2014: Qatar, $116,693.50"
   ]
  },
  {
   "cell_type": "code",
   "execution_count": 347,
   "metadata": {
    "scrolled": false
   },
   "outputs": [
    {
     "name": "stdout",
     "output_type": "stream",
     "text": [
      "     Country  Year  GDP_Per_Capita  Internet_Users_Pct\n",
      "2556   Qatar  2014   116693.507701               91.49\n"
     ]
    }
   ],
   "source": [
    "print(gdp_int_14[gdp_int_14[\"GDP_Per_Capita\"] == gdp_int_14[\"GDP_Per_Capita\"].max()])"
   ]
  },
  {
   "cell_type": "markdown",
   "metadata": {},
   "source": [
    "Lowest GDP for 2014: Burundi, $768.47"
   ]
  },
  {
   "cell_type": "code",
   "execution_count": 348,
   "metadata": {
    "scrolled": true
   },
   "outputs": [
    {
     "name": "stdout",
     "output_type": "stream",
     "text": [
      "     Country  Year  GDP_Per_Capita  Internet_Users_Pct\n",
      "539  Burundi  2014      768.469837                1.38\n"
     ]
    }
   ],
   "source": [
    "print(gdp_int_14[gdp_int_14[\"GDP_Per_Capita\"] == gdp_int_14[\"GDP_Per_Capita\"].min()])"
   ]
  },
  {
   "cell_type": "markdown",
   "metadata": {},
   "source": [
    "2004 Internet_Users_Pct vs. GDP_Per_Capita Scatterplot:"
   ]
  },
  {
   "cell_type": "code",
   "execution_count": 349,
   "metadata": {
    "scrolled": true
   },
   "outputs": [
    {
     "data": {
      "image/png": "[encoded data removed]",
      "text/plain": [
       "<Figure size 432x288 with 1 Axes>"
      ]
     },
     "metadata": {
      "needs_background": "light"
     },
     "output_type": "display_data"
    }
   ],
   "source": [
    "plt.scatter(gdp_int_04[\"Internet_Users_Pct\"], gdp_int_04[\"GDP_Per_Capita\"])\n",
    "plt.xlabel(\"Int_Users_Pct\")\n",
    "plt.ylabel(\"GDP_Per_Capita\")\n",
    "plt.title(\"Internet users percentage vs. GDP per capita, 2004\")\n",
    "plt.show()"
   ]
  },
  {
   "cell_type": "markdown",
   "metadata": {},
   "source": [
    "2009 Internet_Users_Pct vs. GDP_Per_Capita Scatterplot:"
   ]
  },
  {
   "cell_type": "code",
   "execution_count": 350,
   "metadata": {
    "scrolled": true
   },
   "outputs": [
    {
     "data": {
      "image/png": "[encoded data removed]",
      "text/plain": [
       "<Figure size 432x288 with 1 Axes>"
      ]
     },
     "metadata": {
      "needs_background": "light"
     },
     "output_type": "display_data"
    }
   ],
   "source": [
    "plt.scatter(gdp_int_09[\"Internet_Users_Pct\"], gdp_int_09[\"GDP_Per_Capita\"])\n",
    "plt.xlabel(\"Int_Users_Pct\")\n",
    "plt.ylabel(\"GDP_Per_Capita\")\n",
    "plt.title(\"Internet users percentage vs. GDP per capita, 2009\")\n",
    "plt.show()"
   ]
  },
  {
   "cell_type": "markdown",
   "metadata": {},
   "source": [
    "2014 Internet_Users_Pct vs. GDP_Per_Capita Scatterplot:"
   ]
  },
  {
   "cell_type": "code",
   "execution_count": 351,
   "metadata": {
    "scrolled": true
   },
   "outputs": [
    {
     "data": {
      "image/png": "[encoded data removed]",
      "text/plain": [
       "<Figure size 432x288 with 1 Axes>"
      ]
     },
     "metadata": {
      "needs_background": "light"
     },
     "output_type": "display_data"
    }
   ],
   "source": [
    "plt.scatter(gdp_int_14[\"Internet_Users_Pct\"], gdp_int_14[\"GDP_Per_Capita\"])\n",
    "plt.xlabel(\"Int_Users_Pct\")\n",
    "plt.ylabel(\"GDP_Per_Capita\")\n",
    "plt.title(\"Internet users percentage vs. GDP per capita, 2014\")\n",
    "plt.show()"
   ]
  },
  {
   "cell_type": "markdown",
   "metadata": {},
   "source": [
    "In 2004, there seemed to be little correlation between internet users percentage and GDP per capita, as many of the highest GDP countries still had a relatively low percentage of internet users. In 2009, there started to be a little bit more of a correlation, as those countries with high gdp but low percentage of internet users started to increase their internet users percentage. By 2014, this trend continued, creating a high correlation between the gdp and internet users percentage."
   ]
  },
  {
   "cell_type": "markdown",
   "metadata": {},
   "source": [
    "For 2014, the GDP per capita distribution seems to be unimodal, with only one peak near 120000."
   ]
  },
  {
   "cell_type": "markdown",
   "metadata": {},
   "source": [
    "The internet use distribution for 2014 also seems to be unimodal, with only one peak near 100 and about 40000 GDP."
   ]
  },
  {
   "cell_type": "markdown",
   "metadata": {},
   "source": [
    "Top 5 countries for internet use: Iceland, Norway, Denmark, Luxembourg, Netherlands"
   ]
  },
  {
   "cell_type": "code",
   "execution_count": 352,
   "metadata": {},
   "outputs": [
    {
     "name": "stdout",
     "output_type": "stream",
     "text": [
      "          Country  Year  GDP_Per_Capita  Internet_Users_Pct\n",
      "1395      Iceland  2014    42774.888849               98.16\n",
      "2310       Norway  2014    63328.259526               96.30\n",
      "854       Denmark  2014    45057.083449               95.99\n",
      "1812   Luxembourg  2014    92349.186429               94.67\n",
      "2199  Netherlands  2014    46238.209707               93.17\n"
     ]
    }
   ],
   "source": [
    "print(gdp_int_14.sort_values(by=[\"Internet_Users_Pct\"], ascending=False).head(5))"
   ]
  },
  {
   "cell_type": "markdown",
   "metadata": {},
   "source": [
    "New subset for top 5 countries for all three years:"
   ]
  },
  {
   "cell_type": "code",
   "execution_count": 353,
   "metadata": {},
   "outputs": [],
   "source": [
    "top_5_internet = gdp_and_internet_subset[gdp_and_internet_subset[\"Country\"].isin([\"Iceland\", \"Norway\", \"Denmark\", \"Luxembourg\", \"Netherlands\"])]"
   ]
  },
  {
   "cell_type": "code",
   "execution_count": 354,
   "metadata": {
    "scrolled": true
   },
   "outputs": [
    {
     "name": "stdout",
     "output_type": "stream",
     "text": [
      "          Country  Year  GDP_Per_Capita  Internet_Users_Pct\n",
      "854       Denmark  2014    45057.083449               95.99\n",
      "859       Denmark  2009    43382.615688               86.84\n",
      "864       Denmark  2004    43670.446201               80.93\n",
      "1395      Iceland  2014    42774.888849               98.16\n",
      "1400      Iceland  2009    41505.084834               93.00\n",
      "1405      Iceland  2004    38893.378798               83.88\n",
      "1812   Luxembourg  2014    92349.186429               94.67\n",
      "1817   Luxembourg  2009    89098.734264               87.31\n",
      "1822   Luxembourg  2004    87209.819367               65.88\n",
      "2199  Netherlands  2014    46238.209707               93.17\n",
      "2204  Netherlands  2009    45724.862764               89.63\n",
      "2209  Netherlands  2004    43048.313770               68.52\n",
      "2310       Norway  2014    63328.259526               96.30\n",
      "2315       Norway  2009    62617.153609               92.08\n",
      "2320       Norway  2004    61612.275634               77.69\n"
     ]
    }
   ],
   "source": [
    "print(top_5_internet)"
   ]
  },
  {
   "cell_type": "markdown",
   "metadata": {},
   "source": [
    "Seaborn FacetGrid of internet usage percentage across the three years for each country in the top 5:"
   ]
  },
  {
   "cell_type": "code",
   "execution_count": 355,
   "metadata": {},
   "outputs": [
    {
     "data": {
      "image/png": "[encoded data removed]",
      "text/plain": [
       "<Figure size 1080x216 with 5 Axes>"
      ]
     },
     "metadata": {
      "needs_background": "light"
     },
     "output_type": "display_data"
    }
   ],
   "source": [
    "g = sns.FacetGrid(top_5_internet, col=\"Country\").set(xlim=(2003, 2015), ylim=(60, 100), xticks=[2004, 2009, 2014], yticks=[70, 80, 90, 100])\n",
    "g = g.map(plt.plot, \"Year\", \"Internet_Users_Pct\")"
   ]
  },
  {
   "cell_type": "markdown",
   "metadata": {},
   "source": [
    "Luxembourg had the biggest different between 2004 and 2014, with a 28.79% jump."
   ]
  },
  {
   "cell_type": "markdown",
   "metadata": {},
   "source": [
    "The bottom 5 countries by internet users percentage in 2014: Timor-Leste, Burundi, Guinea, Niger, Sierra Leone"
   ]
  },
  {
   "cell_type": "code",
   "execution_count": 356,
   "metadata": {
    "scrolled": true
   },
   "outputs": [
    {
     "name": "stdout",
     "output_type": "stream",
     "text": [
      "           Country  Year  GDP_Per_Capita  Internet_Users_Pct\n",
      "3104   Timor-Leste  2014     6466.737732                1.14\n",
      "539        Burundi  2014      768.469837                1.38\n",
      "1275        Guinea  2014     1836.532318                1.72\n",
      "2270         Niger  2014      900.136918                1.95\n",
      "2742  Sierra Leone  2014     1707.097335                2.10\n"
     ]
    }
   ],
   "source": [
    "print(gdp_int_14.sort_values(by=[\"Internet_Users_Pct\"]).head(5))"
   ]
  },
  {
   "cell_type": "markdown",
   "metadata": {},
   "source": [
    "Subset for the bottom 5 countries for each of the three years:"
   ]
  },
  {
   "cell_type": "code",
   "execution_count": 357,
   "metadata": {},
   "outputs": [],
   "source": [
    "bottom_5_internet = gdp_and_internet_subset[gdp_and_internet_subset[\"Country\"].isin([\"Timor-Leste\", \"Burundi\", \"Guinea\", \"Niger\", \"Sierra Leone\"])]"
   ]
  },
  {
   "cell_type": "code",
   "execution_count": 358,
   "metadata": {
    "scrolled": true
   },
   "outputs": [
    {
     "name": "stdout",
     "output_type": "stream",
     "text": [
      "           Country  Year  GDP_Per_Capita  Internet_Users_Pct\n",
      "539        Burundi  2014      768.469837            1.380000\n",
      "544        Burundi  2009      721.063140            0.900000\n",
      "549        Burundi  2004      708.833720            0.349060\n",
      "1275        Guinea  2014     1836.532318            1.720000\n",
      "1280        Guinea  2009     1626.288463            0.940000\n",
      "1285        Guinea  2004     1583.864869            0.508819\n",
      "2270         Niger  2014      900.136918            1.950000\n",
      "2275         Niger  2009      778.982257            0.760000\n",
      "2280         Niger  2004      757.751262            0.189934\n",
      "2742  Sierra Leone  2014     1707.097335            2.100000\n",
      "2747  Sierra Leone  2009     1172.862734            0.260000\n",
      "2752  Sierra Leone  2004     1057.693494            0.203008\n",
      "3104   Timor-Leste  2014     6466.737732            1.140000\n",
      "3109   Timor-Leste  2009     9275.529371            0.185252\n"
     ]
    }
   ],
   "source": [
    "print(bottom_5_internet)"
   ]
  },
  {
   "cell_type": "markdown",
   "metadata": {},
   "source": [
    "Seaborn FacetGrid of internet usage percentage across the three years for each country in the bottom 5:"
   ]
  },
  {
   "cell_type": "code",
   "execution_count": 359,
   "metadata": {
    "scrolled": true
   },
   "outputs": [
    {
     "data": {
      "image/png": "[encoded data removed]",
      "text/plain": [
       "<Figure size 1080x216 with 5 Axes>"
      ]
     },
     "metadata": {
      "needs_background": "light"
     },
     "output_type": "display_data"
    }
   ],
   "source": [
    "g = sns.FacetGrid(bottom_5_internet, col=\"Country\").set(xlim=(2003, 2015), ylim=(0, 2.5), xticks=[2004, 2009, 2014], yticks=[.5, 1, 1.5, 2, 2.5])\n",
    "g = g.map(plt.plot, \"Year\", \"Internet_Users_Pct\")"
   ]
  },
  {
   "cell_type": "markdown",
   "metadata": {},
   "source": [
    "Timor-Leste is consistently has the lowest, with no recorded internet users in 2004, 0.18% in 2009, and 1.14% in 2014."
   ]
  },
  {
   "cell_type": "code",
   "execution_count": 360,
   "metadata": {},
   "outputs": [
    {
     "name": "stdout",
     "output_type": "stream",
     "text": [
      "         Country  Year  GDP_Per_Capita  Internet_Users_Pct\n",
      "539      Burundi  2014      768.469837                1.38\n",
      "2270       Niger  2014      900.136918                1.95\n",
      "1856      Malawi  2014     1142.530804                5.83\n",
      "2116  Mozambique  2014     1222.452874                5.94\n",
      "1765     Liberia  2014     1257.625441                5.41\n"
     ]
    }
   ],
   "source": [
    "print(gdp_int_14.sort_values(by=[\"GDP_Per_Capita\"]).head(5))"
   ]
  },
  {
   "cell_type": "markdown",
   "metadata": {},
   "source": [
    "Subset for bottom 5 countries across all years:"
   ]
  },
  {
   "cell_type": "code",
   "execution_count": 361,
   "metadata": {},
   "outputs": [],
   "source": [
    "bot_5_gdp = gdp_and_internet_use[gdp_and_internet_use[\"Country\"].isin([\"Burundi\", \"Niger\", \"Malawi\", \"Mozambique\", \"Liberia\"])]"
   ]
  },
  {
   "cell_type": "markdown",
   "metadata": {},
   "source": [
    "Subset for bottom 5 countries from 2004-2014:"
   ]
  },
  {
   "cell_type": "code",
   "execution_count": 362,
   "metadata": {},
   "outputs": [],
   "source": [
    "bot_5_10_years = bot_5_gdp[bot_5_countries[\"Year\"].isin([2004, 2005, 2006, 2007, 2008, 2009, 2010, 2011, 2012, 2013, 2014])]"
   ]
  },
  {
   "cell_type": "code",
   "execution_count": 363,
   "metadata": {},
   "outputs": [
    {
     "name": "stdout",
     "output_type": "stream",
     "text": [
      "         Country  Year  GDP_Per_Capita  Internet_Users_Pct\n",
      "539      Burundi  2014      768.469837            1.380000\n",
      "540      Burundi  2013      760.699070            1.300000\n",
      "541      Burundi  2012      748.075521            1.220000\n",
      "542      Burundi  2011      739.219255            1.110000\n",
      "543      Burundi  2010      733.727723            1.000000\n",
      "544      Burundi  2009      721.063140            0.900000\n",
      "545      Burundi  2008      717.792712            0.810000\n",
      "546      Burundi  2007      707.488696            0.700000\n",
      "547      Burundi  2006      706.746701            0.657593\n",
      "548      Burundi  2005      692.569819            0.542143\n",
      "549      Burundi  2004      708.833720            0.349060\n",
      "1765     Liberia  2014     1257.625441            5.410000\n",
      "1766     Liberia  2013     1281.549652            3.200000\n",
      "1767     Liberia  2012     1211.054620            2.600000\n",
      "1768     Liberia  2011     1154.409370            2.500000\n",
      "1769     Liberia  2010     1101.484191            2.300000\n",
      "1770     Liberia  2009     1076.105620            2.000000\n",
      "1771     Liberia  2008     1063.369701            0.530000\n",
      "1772     Liberia  2007     1034.292458            0.551377\n",
      "1773     Liberia  2004      916.487110            0.031011\n",
      "1856      Malawi  2014     1142.530804            5.830000\n",
      "1857      Malawi  2013     1111.646274            5.050000\n",
      "1858      Malawi  2012     1087.121207            4.350600\n",
      "1859      Malawi  2011     1097.942135            3.330000\n",
      "1860      Malawi  2010     1077.542244            2.260000\n",
      "1861      Malawi  2009     1037.598513            1.070000\n",
      "1862      Malawi  2008      985.756919            0.700000\n",
      "1863      Malawi  2007      942.293892            0.965865\n",
      "1864      Malawi  2006      884.151373            0.425137\n",
      "1865      Malawi  2005      867.720040            0.384489\n",
      "1866      Malawi  2004      862.392437            0.347505\n",
      "2116  Mozambique  2014     1222.452874            5.940000\n",
      "2117  Mozambique  2013     1170.544387            5.400000\n",
      "2118  Mozambique  2012     1125.065049            4.849100\n",
      "2119  Mozambique  2011     1078.208603            4.300000\n",
      "2120  Mozambique  2010     1031.866306            4.170000\n",
      "2121  Mozambique  2009      995.951022            2.680000\n",
      "2122  Mozambique  2008      962.796890            1.560000\n",
      "2123  Mozambique  2007      922.364143            0.910000\n",
      "2124  Mozambique  2006      880.261815            0.842954\n",
      "2125  Mozambique  2005      825.362295            0.854357\n",
      "2126  Mozambique  2004      796.663666            0.679448\n",
      "2270       Niger  2014      900.136918            1.950000\n",
      "2271       Niger  2013      870.401840            1.700000\n",
      "2272       Niger  2012      859.786591            1.407700\n",
      "2273       Niger  2011      799.258376            1.300000\n",
      "2274       Niger  2010      812.303874            0.830000\n",
      "2275       Niger  2009      778.982257            0.760000\n",
      "2276       Niger  2008      815.040394            0.700000\n",
      "2277       Niger  2007      772.373364            0.390391\n",
      "2278       Niger  2006      777.475818            0.294034\n",
      "2279       Niger  2005      762.874429            0.221341\n",
      "2280       Niger  2004      757.751262            0.189934\n"
     ]
    }
   ],
   "source": [
    "print(bot_5_10_years)"
   ]
  },
  {
   "cell_type": "code",
   "execution_count": 364,
   "metadata": {},
   "outputs": [
    {
     "data": {
      "image/png": "[encoded data removed]",
      "text/plain": [
       "<Figure size 1080x216 with 5 Axes>"
      ]
     },
     "metadata": {
      "needs_background": "light"
     },
     "output_type": "display_data"
    }
   ],
   "source": [
    "g = sns.FacetGrid(bot_5_10_years, col=\"Country\").set(xlim=(2003, 2015), ylim=(650, 1300), xticks=[2004, 2006, 2008, 2010, 2012, 2014], yticks=[700, 800, 900, 1000, 1100, 1200, 1300])\n",
    "g = g.map(plt.plot, \"Year\", \"GDP_Per_Capita\")"
   ]
  },
  {
   "cell_type": "markdown",
   "metadata": {},
   "source": [
    "The GDP in Niger was up and down between 2008 and 2012. This most likely had to do with political unrest, as President Mamadou attempted to change Niger from a republic to a military regime in 2009. He was overthrown in a coup in 2010 setting Niger back to a republic with President Issoufou. There was an attempted coup against Issoufou in 2011 but it failed."
   ]
  },
  {
   "cell_type": "markdown",
   "metadata": {},
   "source": [
    "Bonus:"
   ]
  },
  {
   "cell_type": "code",
   "execution_count": 365,
   "metadata": {},
   "outputs": [],
   "source": [
    "equity_df = pd.read_csv(\"/Users/adamtsuchiyama/Documents/gdp-and-internet-usage-adamtsuch21/data/cpia_equality_rating.csv\", nrows=1616)"
   ]
  },
  {
   "cell_type": "code",
   "execution_count": 366,
   "metadata": {},
   "outputs": [
    {
     "name": "stdout",
     "output_type": "stream",
     "text": [
      "     Country or Area  Year  Value  Value Footnotes\n",
      "1606        Zimbabwe  2014    3.1              NaN\n",
      "1607        Zimbabwe  2013    2.5              NaN\n",
      "1608        Zimbabwe  2012    2.4              NaN\n",
      "1609        Zimbabwe  2011    2.4              NaN\n",
      "1610        Zimbabwe  2010    1.8              NaN\n",
      "1611        Zimbabwe  2009    1.6              NaN\n",
      "1612        Zimbabwe  2008    1.5              NaN\n",
      "1613        Zimbabwe  2007    1.8              NaN\n",
      "1614        Zimbabwe  2006    2.0              NaN\n",
      "1615        Zimbabwe  2005    2.0              NaN\n"
     ]
    }
   ],
   "source": [
    "print(equity_df.tail(10))"
   ]
  },
  {
   "cell_type": "code",
   "execution_count": 367,
   "metadata": {},
   "outputs": [],
   "source": [
    "equity_df = equity_df.drop(\"Value Footnotes\", axis=1)"
   ]
  },
  {
   "cell_type": "code",
   "execution_count": 368,
   "metadata": {},
   "outputs": [],
   "source": [
    "equity_df = equity_df.rename(columns={\"Country or Area\" : \"Country\", \"Year\" : \"Year\", \"Value\" : \"Equality_Rating\"})"
   ]
  },
  {
   "cell_type": "code",
   "execution_count": 369,
   "metadata": {},
   "outputs": [
    {
     "name": "stdout",
     "output_type": "stream",
     "text": [
      "          Country  Year  Equality_Rating\n",
      "0     Afghanistan  2018              2.6\n",
      "1     Afghanistan  2017              2.6\n",
      "2     Afghanistan  2016              2.6\n",
      "3     Afghanistan  2015              2.6\n",
      "4     Afghanistan  2014              2.6\n",
      "...           ...   ...              ...\n",
      "1611     Zimbabwe  2009              1.6\n",
      "1612     Zimbabwe  2008              1.5\n",
      "1613     Zimbabwe  2007              1.8\n",
      "1614     Zimbabwe  2006              2.0\n",
      "1615     Zimbabwe  2005              2.0\n",
      "\n",
      "[1616 rows x 3 columns]\n"
     ]
    }
   ],
   "source": [
    "print(equity_df)"
   ]
  },
  {
   "cell_type": "code",
   "execution_count": 370,
   "metadata": {},
   "outputs": [
    {
     "name": "stdout",
     "output_type": "stream",
     "text": [
      "(1616, 3)\n"
     ]
    }
   ],
   "source": [
    "print(np.shape(equity_df))"
   ]
  },
  {
   "cell_type": "code",
   "execution_count": 371,
   "metadata": {},
   "outputs": [
    {
     "name": "stdout",
     "output_type": "stream",
     "text": [
      "Country             object\n",
      "Year                 int64\n",
      "Equality_Rating    float64\n",
      "dtype: object\n"
     ]
    }
   ],
   "source": [
    "print(equity_df.dtypes)"
   ]
  },
  {
   "cell_type": "code",
   "execution_count": 372,
   "metadata": {},
   "outputs": [],
   "source": [
    "bonus_joined_df = pd.merge(gdp_and_internet_use, equity_df, on=[\"Country\", \"Year\"])"
   ]
  },
  {
   "cell_type": "code",
   "execution_count": 373,
   "metadata": {},
   "outputs": [
    {
     "name": "stdout",
     "output_type": "stream",
     "text": [
      "       Country  Year  GDP_Per_Capita  Internet_Users_Pct  Equality_Rating\n",
      "0  Afghanistan  2014     1795.735834            6.390000              2.6\n",
      "1  Afghanistan  2013     1807.762344            5.900000              2.6\n",
      "2  Afghanistan  2012     1772.764974            5.454545              2.7\n",
      "3  Afghanistan  2011     1626.764793            5.000000              2.7\n",
      "4  Afghanistan  2010     1671.581238            4.000000              2.6\n"
     ]
    }
   ],
   "source": [
    "print(bonus_joined_df.head())"
   ]
  },
  {
   "cell_type": "code",
   "execution_count": 374,
   "metadata": {
    "scrolled": true
   },
   "outputs": [
    {
     "name": "stdout",
     "output_type": "stream",
     "text": [
      "(634, 5)\n"
     ]
    }
   ],
   "source": [
    "print(np.shape(bonus_joined_df))"
   ]
  },
  {
   "cell_type": "code",
   "execution_count": 381,
   "metadata": {},
   "outputs": [],
   "source": [
    "bot_5_int_equity = bonus_joined_df[bonus_joined_df[\"Country\"].isin([\"Timor-Leste\", \"Burundi\", \"Guinea\", \"Niger\", \"Sierra Leone\"])]"
   ]
  },
  {
   "cell_type": "code",
   "execution_count": 382,
   "metadata": {
    "scrolled": true
   },
   "outputs": [
    {
     "name": "stdout",
     "output_type": "stream",
     "text": [
      "          Country  Year  GDP_Per_Capita  Internet_Users_Pct  Equality_Rating\n",
      "91        Burundi  2014      768.469837            1.380000              3.6\n",
      "92        Burundi  2013      760.699070            1.300000              3.6\n",
      "93        Burundi  2012      748.075521            1.220000              3.6\n",
      "94        Burundi  2011      739.219255            1.110000              3.4\n",
      "95        Burundi  2010      733.727723            1.000000              3.4\n",
      "96        Burundi  2009      721.063140            0.900000              3.3\n",
      "97        Burundi  2008      717.792712            0.810000              3.3\n",
      "98        Burundi  2007      707.488696            0.700000              3.3\n",
      "99        Burundi  2006      706.746701            0.657593              3.1\n",
      "100       Burundi  2005      692.569819            0.542143              3.0\n",
      "206        Guinea  2014     1836.532318            1.720000              3.1\n",
      "207        Guinea  2013     1813.039625            1.600000              3.0\n",
      "208        Guinea  2012     1783.644984            1.490144              3.1\n",
      "209        Guinea  2011     1721.451359            1.300000              3.0\n",
      "210        Guinea  2010     1666.485283            1.000000              3.0\n",
      "211        Guinea  2009     1626.288463            0.940000              3.0\n",
      "212        Guinea  2008     1682.867011            0.920000              3.0\n",
      "213        Guinea  2007     1653.534936            0.780025              3.0\n",
      "214        Guinea  2006     1582.901756            0.637492              3.0\n",
      "215        Guinea  2005     1598.416031            0.542254              3.2\n",
      "403         Niger  2014      900.136918            1.950000              3.3\n",
      "404         Niger  2013      870.401840            1.700000              3.3\n",
      "405         Niger  2012      859.786591            1.407700              3.4\n",
      "406         Niger  2011      799.258376            1.300000              3.4\n",
      "407         Niger  2010      812.303874            0.830000              3.2\n",
      "408         Niger  2009      778.982257            0.760000              3.1\n",
      "409         Niger  2008      815.040394            0.700000              3.0\n",
      "410         Niger  2007      772.373364            0.390391              3.0\n",
      "411         Niger  2006      777.475818            0.294034              3.0\n",
      "412         Niger  2005      762.874429            0.221341              3.0\n",
      "474  Sierra Leone  2014     1707.097335            2.100000              3.3\n",
      "475  Sierra Leone  2013     1669.131278            1.700000              3.3\n",
      "476  Sierra Leone  2012     1413.881340            1.300000              3.3\n",
      "477  Sierra Leone  2011     1255.453038            0.900000              3.3\n",
      "478  Sierra Leone  2010     1208.048721            0.580000              3.2\n",
      "479  Sierra Leone  2009     1172.862734            0.260000              3.1\n",
      "480  Sierra Leone  2008     1162.409058            0.250000              2.9\n",
      "481  Sierra Leone  2007     1129.382074            0.239835              2.9\n",
      "482  Sierra Leone  2006     1073.919879            0.227669              2.8\n",
      "483  Sierra Leone  2005     1063.908464            0.215392              2.9\n",
      "543   Timor-Leste  2014     6466.737732            1.140000              2.9\n",
      "544   Timor-Leste  2013     8887.082143            1.100000              2.9\n",
      "545   Timor-Leste  2012    10174.262177            0.914700              2.9\n",
      "546   Timor-Leste  2011     9860.331546            0.900000              2.9\n",
      "547   Timor-Leste  2010     9005.478419            0.210000              2.9\n",
      "548   Timor-Leste  2009     9275.529371            0.185252              2.8\n",
      "549   Timor-Leste  2008    10048.232233            0.163877              2.7\n",
      "550   Timor-Leste  2007     9309.064146            0.140959              2.7\n",
      "551   Timor-Leste  2006     9017.083158            0.116628              2.6\n"
     ]
    }
   ],
   "source": [
    "print(bot_5_int_equity)"
   ]
  },
  {
   "cell_type": "code",
   "execution_count": 383,
   "metadata": {},
   "outputs": [],
   "source": [
    "bot_5_gdp_equity = bonus_joined_df[bonus_joined_df[\"Country\"].isin([\"Burundi\", \"Niger\", \"Malawi\", \"Mozambique\", \"Liberia\"])]"
   ]
  },
  {
   "cell_type": "code",
   "execution_count": 384,
   "metadata": {},
   "outputs": [
    {
     "name": "stdout",
     "output_type": "stream",
     "text": [
      "        Country  Year  GDP_Per_Capita  Internet_Users_Pct  Equality_Rating\n",
      "91      Burundi  2014      768.469837            1.380000              3.6\n",
      "92      Burundi  2013      760.699070            1.300000              3.6\n",
      "93      Burundi  2012      748.075521            1.220000              3.6\n",
      "94      Burundi  2011      739.219255            1.110000              3.4\n",
      "95      Burundi  2010      733.727723            1.000000              3.4\n",
      "96      Burundi  2009      721.063140            0.900000              3.3\n",
      "97      Burundi  2008      717.792712            0.810000              3.3\n",
      "98      Burundi  2007      707.488696            0.700000              3.3\n",
      "99      Burundi  2006      706.746701            0.657593              3.1\n",
      "100     Burundi  2005      692.569819            0.542143              3.0\n",
      "293     Liberia  2014     1257.625441            5.410000              3.0\n",
      "294     Liberia  2013     1281.549652            3.200000              3.1\n",
      "295     Liberia  2012     1211.054620            2.600000              3.1\n",
      "296     Liberia  2011     1154.409370            2.500000              3.0\n",
      "297     Liberia  2010     1101.484191            2.300000              2.7\n",
      "298     Liberia  2009     1076.105620            2.000000              2.5\n",
      "309      Malawi  2014     1142.530804            5.830000              3.5\n",
      "310      Malawi  2013     1111.646274            5.050000              3.5\n",
      "311      Malawi  2012     1087.121207            4.350600              3.5\n",
      "312      Malawi  2011     1097.942135            3.330000              3.6\n",
      "313      Malawi  2010     1077.542244            2.260000              3.5\n",
      "314      Malawi  2009     1037.598513            1.070000              3.5\n",
      "315      Malawi  2008      985.756919            0.700000              3.4\n",
      "316      Malawi  2007      942.293892            0.965865              3.4\n",
      "317      Malawi  2006      884.151373            0.425137              3.5\n",
      "318      Malawi  2005      867.720040            0.384489              3.5\n",
      "371  Mozambique  2014     1222.452874            5.940000              3.4\n",
      "372  Mozambique  2013     1170.544387            5.400000              3.5\n",
      "373  Mozambique  2012     1125.065049            4.849100              3.5\n",
      "374  Mozambique  2011     1078.208603            4.300000              3.3\n",
      "375  Mozambique  2010     1031.866306            4.170000              3.4\n",
      "376  Mozambique  2009      995.951022            2.680000              3.3\n",
      "377  Mozambique  2008      962.796890            1.560000              3.4\n",
      "378  Mozambique  2007      922.364143            0.910000              3.3\n",
      "379  Mozambique  2006      880.261815            0.842954              3.3\n",
      "380  Mozambique  2005      825.362295            0.854357              3.3\n",
      "403       Niger  2014      900.136918            1.950000              3.3\n",
      "404       Niger  2013      870.401840            1.700000              3.3\n",
      "405       Niger  2012      859.786591            1.407700              3.4\n",
      "406       Niger  2011      799.258376            1.300000              3.4\n",
      "407       Niger  2010      812.303874            0.830000              3.2\n",
      "408       Niger  2009      778.982257            0.760000              3.1\n",
      "409       Niger  2008      815.040394            0.700000              3.0\n",
      "410       Niger  2007      772.373364            0.390391              3.0\n",
      "411       Niger  2006      777.475818            0.294034              3.0\n",
      "412       Niger  2005      762.874429            0.221341              3.0\n"
     ]
    }
   ],
   "source": [
    "print(bot_5_gdp_equity)"
   ]
  },
  {
   "cell_type": "code",
   "execution_count": 375,
   "metadata": {},
   "outputs": [],
   "source": [
    "bonus_joined_14 = bonus_joined_df[bonus_joined_df[\"Year\"] == 2014]"
   ]
  },
  {
   "cell_type": "code",
   "execution_count": 376,
   "metadata": {},
   "outputs": [
    {
     "name": "stdout",
     "output_type": "stream",
     "text": [
      "      Country  Year  GDP_Per_Capita  Internet_Users_Pct  Equality_Rating\n",
      "443    Rwanda  2014     1667.579916               10.60              4.2\n",
      "55     Bhutan  2014     7770.022409               34.37              4.0\n",
      "353   Moldova  2014     5711.282367               46.60              4.0\n",
      "186     Ghana  2014     3791.280251               18.90              3.9\n",
      "244  Honduras  2014     4162.166942               19.08              3.8\n"
     ]
    }
   ],
   "source": [
    "print(bonus_joined_14.sort_values(by=[\"Equality_Rating\"], ascending=False).head(5))"
   ]
  },
  {
   "cell_type": "code",
   "execution_count": 377,
   "metadata": {},
   "outputs": [
    {
     "name": "stdout",
     "output_type": "stream",
     "text": [
      "              Country  Year  GDP_Per_Capita  Internet_Users_Pct  \\\n",
      "494       South Sudan  2014     1817.598265               15.90   \n",
      "216     Guinea-Bissau  2014     1425.770644                3.32   \n",
      "121              Chad  2014     2062.345069                2.50   \n",
      "516             Sudan  2014     4161.895062               24.64   \n",
      "339  Marshall Islands  2014     3258.331941               16.80   \n",
      "\n",
      "     Equality_Rating  \n",
      "494              2.1  \n",
      "216              2.3  \n",
      "121              2.5  \n",
      "516              2.5  \n",
      "339              2.6  \n"
     ]
    }
   ],
   "source": [
    "print(bonus_joined_14.sort_values(by=[\"Equality_Rating\"]).head(5))"
   ]
  }
 ],
 "metadata": {
  "kernelspec": {
   "display_name": "Python 3",
   "language": "python",
   "name": "python3"
  },
  "language_info": {
   "codemirror_mode": {
    "name": "ipython",
    "version": 3
   },
   "file_extension": ".py",
   "mimetype": "text/x-python",
   "name": "python",
   "nbconvert_exporter": "python",
   "pygments_lexer": "ipython3",
   "version": "3.7.6"
  }
 },
 "nbformat": 4,
 "nbformat_minor": 4
}
