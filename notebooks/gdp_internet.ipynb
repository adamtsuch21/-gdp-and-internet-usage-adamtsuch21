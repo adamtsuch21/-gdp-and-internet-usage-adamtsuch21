{
 "cells": [
  {
   "cell_type": "code",
   "execution_count": 508,
   "metadata": {},
   "outputs": [],
   "source": [
    "import pandas as pd\n",
    "import numpy as np\n",
    "import matplotlib.pyplot as plt\n",
    "import seaborn as sns\n",
    "import os"
   ]
  },
  {
   "cell_type": "code",
   "execution_count": 509,
   "metadata": {},
   "outputs": [],
   "source": [
    "%matplotlib inline"
   ]
  },
  {
   "cell_type": "code",
   "execution_count": 510,
   "metadata": {},
   "outputs": [
    {
     "name": "stdout",
     "output_type": "stream",
     "text": [
      "/Users/adamtsuchiyama/Documents/gdp-and-internet-usage-adamtsuch21/notebooks\n"
     ]
    }
   ],
   "source": [
    "print(os.getcwd())"
   ]
  },
  {
   "cell_type": "markdown",
   "metadata": {},
   "source": [
    "gdp csv file loaded:"
   ]
  },
  {
   "cell_type": "code",
   "execution_count": 511,
   "metadata": {},
   "outputs": [],
   "source": [
    "gdp_df = pd.read_csv(\"/Users/adamtsuchiyama/Documents/gdp-and-internet-usage-adamtsuch21/data/gdp_percapita.csv\", nrows=6729)"
   ]
  },
  {
   "cell_type": "markdown",
   "metadata": {},
   "source": [
    "First 6 rows of gdp:"
   ]
  },
  {
   "cell_type": "code",
   "execution_count": 512,
   "metadata": {
    "scrolled": true
   },
   "outputs": [
    {
     "name": "stdout",
     "output_type": "stream",
     "text": [
      "  Country or Area  Year        Value  Value Footnotes\n",
      "0     Afghanistan  2018  1734.723214              NaN\n",
      "1     Afghanistan  2017  1758.465636              NaN\n",
      "2     Afghanistan  2016  1757.023490              NaN\n",
      "3     Afghanistan  2015  1766.593077              NaN\n",
      "4     Afghanistan  2014  1795.735834              NaN\n",
      "5     Afghanistan  2013  1807.762344              NaN\n"
     ]
    }
   ],
   "source": [
    "print(gdp_df.head(6))"
   ]
  },
  {
   "cell_type": "markdown",
   "metadata": {},
   "source": [
    "internet csv file loaded:"
   ]
  },
  {
   "cell_type": "code",
   "execution_count": 513,
   "metadata": {},
   "outputs": [],
   "source": [
    "internet_df = pd.read_csv(\"/Users/adamtsuchiyama/Documents/gdp-and-internet-usage-adamtsuch21/data/internet_use.csv\", nrows=4495)"
   ]
  },
  {
   "cell_type": "markdown",
   "metadata": {},
   "source": [
    "First 6 rows of internet:"
   ]
  },
  {
   "cell_type": "code",
   "execution_count": 514,
   "metadata": {
    "scrolled": true
   },
   "outputs": [
    {
     "name": "stdout",
     "output_type": "stream",
     "text": [
      "  Country or Area  Year     Value  Value Footnotes\n",
      "0     Afghanistan  2014  6.390000              NaN\n",
      "1     Afghanistan  2013  5.900000              NaN\n",
      "2     Afghanistan  2012  5.454545              NaN\n",
      "3     Afghanistan  2011  5.000000              NaN\n",
      "4     Afghanistan  2010  4.000000              NaN\n",
      "5     Afghanistan  2009  3.550000              NaN\n"
     ]
    }
   ],
   "source": [
    "print(internet_df.head(6))"
   ]
  },
  {
   "cell_type": "markdown",
   "metadata": {},
   "source": [
    "Shape of gdp: 6729 rows, 4 columns"
   ]
  },
  {
   "cell_type": "code",
   "execution_count": 515,
   "metadata": {
    "scrolled": true
   },
   "outputs": [
    {
     "name": "stdout",
     "output_type": "stream",
     "text": [
      "(6729, 4)\n"
     ]
    }
   ],
   "source": [
    "print(np.shape(gdp_df))"
   ]
  },
  {
   "cell_type": "markdown",
   "metadata": {},
   "source": [
    "Shape of internet: 4495 rows, 4 columns"
   ]
  },
  {
   "cell_type": "code",
   "execution_count": 516,
   "metadata": {
    "scrolled": true
   },
   "outputs": [
    {
     "name": "stdout",
     "output_type": "stream",
     "text": [
      "(4495, 4)\n"
     ]
    }
   ],
   "source": [
    "print(np.shape(internet_df))"
   ]
  },
  {
   "cell_type": "markdown",
   "metadata": {},
   "source": [
    "Data types of gdp:"
   ]
  },
  {
   "cell_type": "code",
   "execution_count": 517,
   "metadata": {},
   "outputs": [
    {
     "name": "stdout",
     "output_type": "stream",
     "text": [
      "Country or Area     object\n",
      "Year                 int64\n",
      "Value              float64\n",
      "Value Footnotes    float64\n",
      "dtype: object\n"
     ]
    }
   ],
   "source": [
    "print(gdp_df.dtypes)"
   ]
  },
  {
   "cell_type": "markdown",
   "metadata": {},
   "source": [
    "Data types of internet:"
   ]
  },
  {
   "cell_type": "code",
   "execution_count": 518,
   "metadata": {
    "scrolled": true
   },
   "outputs": [
    {
     "name": "stdout",
     "output_type": "stream",
     "text": [
      "Country or Area     object\n",
      "Year                 int64\n",
      "Value              float64\n",
      "Value Footnotes    float64\n",
      "dtype: object\n"
     ]
    }
   ],
   "source": [
    "print(internet_df.dtypes)"
   ]
  },
  {
   "cell_type": "markdown",
   "metadata": {},
   "source": [
    "Last 10 rows of gdp:"
   ]
  },
  {
   "cell_type": "code",
   "execution_count": 519,
   "metadata": {
    "scrolled": true
   },
   "outputs": [
    {
     "name": "stdout",
     "output_type": "stream",
     "text": [
      "     Country or Area  Year        Value  Value Footnotes\n",
      "6719        Zimbabwe  1999  3054.064189              NaN\n",
      "6720        Zimbabwe  1998  3099.076182              NaN\n",
      "6721        Zimbabwe  1997  3036.422224              NaN\n",
      "6722        Zimbabwe  1996  2985.856605              NaN\n",
      "6723        Zimbabwe  1995  2736.486436              NaN\n",
      "6724        Zimbabwe  1994  2768.309953              NaN\n",
      "6725        Zimbabwe  1993  2572.870395              NaN\n",
      "6726        Zimbabwe  1992  2591.007534              NaN\n",
      "6727        Zimbabwe  1991  2906.272849              NaN\n",
      "6728        Zimbabwe  1990  2819.549467              NaN\n"
     ]
    }
   ],
   "source": [
    "print(gdp_df.tail(10))"
   ]
  },
  {
   "cell_type": "markdown",
   "metadata": {},
   "source": [
    "Last 10 rows of internet:"
   ]
  },
  {
   "cell_type": "code",
   "execution_count": 520,
   "metadata": {
    "scrolled": true
   },
   "outputs": [
    {
     "name": "stdout",
     "output_type": "stream",
     "text": [
      "     Country or Area  Year     Value  Value Footnotes\n",
      "4485        Zimbabwe  2002  3.994356              NaN\n",
      "4486        Zimbabwe  2001  0.799846              NaN\n",
      "4487        Zimbabwe  2000  0.401434              NaN\n",
      "4488        Zimbabwe  1999  0.161676              NaN\n",
      "4489        Zimbabwe  1998  0.081648              NaN\n",
      "4490        Zimbabwe  1997  0.033080              NaN\n",
      "4491        Zimbabwe  1996  0.016790              NaN\n",
      "4492        Zimbabwe  1995  0.007684              NaN\n",
      "4493        Zimbabwe  1994  0.001739              NaN\n",
      "4494        Zimbabwe  1990  0.000000              NaN\n"
     ]
    }
   ],
   "source": [
    "print(internet_df.tail(10))"
   ]
  },
  {
   "cell_type": "markdown",
   "metadata": {},
   "source": [
    "Dropped \"Value Footnotes\" from gdp:"
   ]
  },
  {
   "cell_type": "code",
   "execution_count": 521,
   "metadata": {},
   "outputs": [],
   "source": [
    "gdp_df = gdp_df.drop(\"Value Footnotes\", axis=1)"
   ]
  },
  {
   "cell_type": "code",
   "execution_count": 522,
   "metadata": {
    "scrolled": true
   },
   "outputs": [
    {
     "name": "stdout",
     "output_type": "stream",
     "text": [
      "  Country or Area  Year        Value\n",
      "0     Afghanistan  2018  1734.723214\n",
      "1     Afghanistan  2017  1758.465636\n",
      "2     Afghanistan  2016  1757.023490\n",
      "3     Afghanistan  2015  1766.593077\n",
      "4     Afghanistan  2014  1795.735834\n"
     ]
    }
   ],
   "source": [
    "print(gdp_df.head())"
   ]
  },
  {
   "cell_type": "markdown",
   "metadata": {},
   "source": [
    "Dropped \"Value Footnotes\" from internet:"
   ]
  },
  {
   "cell_type": "code",
   "execution_count": 523,
   "metadata": {},
   "outputs": [],
   "source": [
    "internet_df = internet_df.drop(\"Value Footnotes\", axis=1)"
   ]
  },
  {
   "cell_type": "code",
   "execution_count": 524,
   "metadata": {
    "scrolled": true
   },
   "outputs": [
    {
     "name": "stdout",
     "output_type": "stream",
     "text": [
      "  Country or Area  Year     Value\n",
      "0     Afghanistan  2014  6.390000\n",
      "1     Afghanistan  2013  5.900000\n",
      "2     Afghanistan  2012  5.454545\n",
      "3     Afghanistan  2011  5.000000\n",
      "4     Afghanistan  2010  4.000000\n"
     ]
    }
   ],
   "source": [
    "print(internet_df.head())"
   ]
  },
  {
   "cell_type": "markdown",
   "metadata": {},
   "source": [
    "Changed gdp column labels:"
   ]
  },
  {
   "cell_type": "code",
   "execution_count": 525,
   "metadata": {},
   "outputs": [],
   "source": [
    "gdp_df = gdp_df.rename(columns={\"Country or Area\" : \"Country\", \"Year\" : \"Year\", \"Value\" : \"GDP_Per_Capita\"})"
   ]
  },
  {
   "cell_type": "code",
   "execution_count": 526,
   "metadata": {},
   "outputs": [
    {
     "name": "stdout",
     "output_type": "stream",
     "text": [
      "       Country  Year  GDP_Per_Capita\n",
      "0  Afghanistan  2018     1734.723214\n",
      "1  Afghanistan  2017     1758.465636\n",
      "2  Afghanistan  2016     1757.023490\n",
      "3  Afghanistan  2015     1766.593077\n",
      "4  Afghanistan  2014     1795.735834\n"
     ]
    }
   ],
   "source": [
    "print(gdp_df.head())"
   ]
  },
  {
   "cell_type": "markdown",
   "metadata": {},
   "source": [
    "Changed internet column labels:"
   ]
  },
  {
   "cell_type": "code",
   "execution_count": 527,
   "metadata": {},
   "outputs": [],
   "source": [
    "internet_df = internet_df.rename(columns={\"Country or Area\" : \"Country\", \"Year\" : \"Year\", \"Value\" : \"Internet_Users_Pct\"})"
   ]
  },
  {
   "cell_type": "code",
   "execution_count": 528,
   "metadata": {
    "scrolled": true
   },
   "outputs": [
    {
     "name": "stdout",
     "output_type": "stream",
     "text": [
      "       Country  Year  Internet_Users_Pct\n",
      "0  Afghanistan  2014            6.390000\n",
      "1  Afghanistan  2013            5.900000\n",
      "2  Afghanistan  2012            5.454545\n",
      "3  Afghanistan  2011            5.000000\n",
      "4  Afghanistan  2010            4.000000\n",
      "     Country  Year  Internet_Users_Pct\n",
      "415  Bermuda  2014           96.800000\n",
      "416  Bermuda  2013           95.300000\n",
      "417  Bermuda  2012           91.299305\n",
      "418  Bermuda  2011           88.336000\n",
      "419  Bermuda  2010           84.210000\n",
      "420  Bermuda  2009           83.250000\n",
      "421  Bermuda  2008           82.300000\n",
      "422  Bermuda  2007           74.350594\n",
      "423  Bermuda  2006           69.899655\n",
      "424  Bermuda  2005           65.447066\n",
      "425  Bermuda  2004           60.990867\n",
      "426  Bermuda  2003           56.522012\n",
      "427  Bermuda  2002           52.031597\n",
      "428  Bermuda  2001           47.509700\n",
      "429  Bermuda  2000           42.949860\n",
      "430  Bermuda  1999           39.947589\n",
      "431  Bermuda  1998           32.103759\n",
      "432  Bermuda  1997           24.189257\n",
      "433  Bermuda  1996           16.202466\n",
      "434  Bermuda  1995            6.838163\n",
      "435  Bermuda  1990            0.000000\n",
      "None\n"
     ]
    }
   ],
   "source": [
    "print(internet_df.head())\n",
    "print(\n",
    "print(internet_df[internet_df[\"Country\"].isin([\"Bermuda\"])]))"
   ]
  },
  {
   "cell_type": "markdown",
   "metadata": {},
   "source": [
    "Merged gdp and internet:"
   ]
  },
  {
   "cell_type": "code",
   "execution_count": 529,
   "metadata": {},
   "outputs": [
    {
     "name": "stdout",
     "output_type": "stream",
     "text": [
      "      Country  Year  GDP_Per_Capita  Internet_Users_Pct\n",
      "538   Bermuda  2013    50669.314770           95.300000\n",
      "539   Bermuda  2012    52137.300373           91.299305\n",
      "540   Bermuda  2011    54984.510395           88.336000\n",
      "541   Bermuda  2010    56395.007800           84.210000\n",
      "542   Bermuda  2009    57151.919132           83.250000\n",
      "543   Bermuda  2008    60675.982086           82.300000\n",
      "544   Bermuda  2007    60117.459910           74.350594\n",
      "545   Bermuda  2006    58784.593291           69.899655\n",
      "546   Bermuda  2005    56017.191620           65.447066\n",
      "547   Bermuda  2004    55452.638880           60.990867\n",
      "548   Bermuda  2003    54549.801163           56.522012\n",
      "549   Bermuda  2002    53096.925492           52.031597\n",
      "550   Bermuda  2001    54245.149640           47.509700\n",
      "551   Bermuda  2000    51140.236845           42.949860\n",
      "552   Bermuda  1999    47199.841446           39.947589\n",
      "553   Bermuda  1998    45911.686500           32.103759\n",
      "554   Bermuda  1997    44514.109416           24.189257\n",
      "555   Bermuda  1996    42816.963244           16.202466\n",
      "556   Bermuda  1995    41999.259464            6.838163\n",
      "557   Bermuda  1994    40518.407818                 NaN\n",
      "558   Bermuda  1993    40557.220156                 NaN\n",
      "559   Bermuda  1992    39584.329859                 NaN\n",
      "560   Bermuda  1991    39322.109183                 NaN\n",
      "561   Bermuda  1990    40553.258521            0.000000\n",
      "6772  Bermuda  2014             NaN           96.800000\n"
     ]
    }
   ],
   "source": [
    "gdp_and_internet_use = pd.merge(gdp_df, internet_df, on=[\"Country\", \"Year\"], how='outer')\n",
    "print(gdp_and_internet_use[gdp_and_internet_use[\"Country\"].isin([\"Bermuda\"])])"
   ]
  },
  {
   "cell_type": "markdown",
   "metadata": {},
   "source": [
    "First 5 rows of merged dataset:"
   ]
  },
  {
   "cell_type": "code",
   "execution_count": 530,
   "metadata": {},
   "outputs": [
    {
     "name": "stdout",
     "output_type": "stream",
     "text": [
      "       Country  Year  GDP_Per_Capita  Internet_Users_Pct\n",
      "0  Afghanistan  2018     1734.723214                 NaN\n",
      "1  Afghanistan  2017     1758.465636                 NaN\n",
      "2  Afghanistan  2016     1757.023490                 NaN\n",
      "3  Afghanistan  2015     1766.593077                 NaN\n",
      "4  Afghanistan  2014     1795.735834                6.39\n"
     ]
    }
   ],
   "source": [
    "print(gdp_and_internet_use.head())"
   ]
  },
  {
   "cell_type": "markdown",
   "metadata": {},
   "source": [
    "Last 5 rows of merged dataset:"
   ]
  },
  {
   "cell_type": "code",
   "execution_count": 531,
   "metadata": {
    "scrolled": true
   },
   "outputs": [
    {
     "name": "stdout",
     "output_type": "stream",
     "text": [
      "                    Country  Year  GDP_Per_Capita  Internet_Users_Pct\n",
      "7700  Virgin Islands (U.S.)  1997             NaN            6.948369\n",
      "7701  Virgin Islands (U.S.)  1996             NaN            4.647186\n",
      "7702  Virgin Islands (U.S.)  1995             NaN            2.801958\n",
      "7703  Virgin Islands (U.S.)  1994             NaN            0.940645\n",
      "7704  Virgin Islands (U.S.)  1990             NaN            0.000000\n"
     ]
    }
   ],
   "source": [
    "print(gdp_and_internet_use.tail())"
   ]
  },
  {
   "cell_type": "markdown",
   "metadata": {},
   "source": [
    "Shape of merged dataset: 6729 rows, 4 columns"
   ]
  },
  {
   "cell_type": "code",
   "execution_count": 532,
   "metadata": {
    "scrolled": true
   },
   "outputs": [
    {
     "name": "stdout",
     "output_type": "stream",
     "text": [
      "(7705, 4)\n"
     ]
    }
   ],
   "source": [
    "print(np.shape(gdp_and_internet_use))"
   ]
  },
  {
   "cell_type": "markdown",
   "metadata": {},
   "source": [
    "Subset for only years 2004, 2009, 2014:"
   ]
  },
  {
   "cell_type": "code",
   "execution_count": 533,
   "metadata": {},
   "outputs": [],
   "source": [
    "gdp_and_internet_subset = gdp_and_internet_use[gdp_and_internet_use[\"Year\"].isin([2004, 2009, 2014])]"
   ]
  },
  {
   "cell_type": "markdown",
   "metadata": {},
   "source": [
    "Top 5 rows of subset:"
   ]
  },
  {
   "cell_type": "code",
   "execution_count": 534,
   "metadata": {},
   "outputs": [
    {
     "name": "stdout",
     "output_type": "stream",
     "text": [
      "        Country  Year  GDP_Per_Capita  Internet_Users_Pct\n",
      "4   Afghanistan  2014     1795.735834            6.390000\n",
      "9   Afghanistan  2009     1502.354073            3.550000\n",
      "14  Afghanistan  2004     1025.208245            0.105809\n",
      "21      Albania  2014    10700.993216           60.100000\n",
      "26      Albania  2009     9525.377979           41.200000\n"
     ]
    }
   ],
   "source": [
    "print(gdp_and_internet_subset.head())"
   ]
  },
  {
   "cell_type": "markdown",
   "metadata": {},
   "source": [
    "Subset for just 2004:"
   ]
  },
  {
   "cell_type": "code",
   "execution_count": 535,
   "metadata": {},
   "outputs": [],
   "source": [
    "gdp_int_04 = gdp_and_internet_subset[gdp_and_internet_subset[\"Year\"] == 2004]"
   ]
  },
  {
   "cell_type": "markdown",
   "metadata": {},
   "source": [
    "Top 5 rows for 2004 subset:"
   ]
  },
  {
   "cell_type": "code",
   "execution_count": 536,
   "metadata": {
    "scrolled": true
   },
   "outputs": [
    {
     "name": "stdout",
     "output_type": "stream",
     "text": [
      "                 Country  Year  GDP_Per_Capita  Internet_Users_Pct\n",
      "14           Afghanistan  2004     1025.208245            0.105809\n",
      "31               Albania  2004     7001.054082            2.420388\n",
      "60               Algeria  2004    11845.170512            4.634475\n",
      "89                Angola  2004     4604.657044            0.464815\n",
      "118  Antigua and Barbuda  2004    21161.123532           24.266544\n"
     ]
    }
   ],
   "source": [
    "print(gdp_int_04.head())"
   ]
  },
  {
   "cell_type": "markdown",
   "metadata": {},
   "source": [
    "Subset for just 2009:"
   ]
  },
  {
   "cell_type": "code",
   "execution_count": 537,
   "metadata": {},
   "outputs": [],
   "source": [
    "gdp_int_09 = gdp_and_internet_subset[gdp_and_internet_subset[\"Year\"] == 2009]"
   ]
  },
  {
   "cell_type": "markdown",
   "metadata": {},
   "source": [
    "Top 5 rows for 2009 subset:"
   ]
  },
  {
   "cell_type": "code",
   "execution_count": 538,
   "metadata": {},
   "outputs": [
    {
     "name": "stdout",
     "output_type": "stream",
     "text": [
      "                 Country  Year  GDP_Per_Capita  Internet_Users_Pct\n",
      "9            Afghanistan  2009     1502.354073                3.55\n",
      "26               Albania  2009     9525.377979               41.20\n",
      "55               Algeria  2009    12697.690780               11.23\n",
      "84                Angola  2009     6292.534856                6.00\n",
      "113  Antigua and Barbuda  2009    22568.626530               42.00\n"
     ]
    }
   ],
   "source": [
    "print(gdp_int_09.head())"
   ]
  },
  {
   "cell_type": "markdown",
   "metadata": {},
   "source": [
    "Subset for just 2014:"
   ]
  },
  {
   "cell_type": "code",
   "execution_count": 539,
   "metadata": {},
   "outputs": [],
   "source": [
    "gdp_int_14 = gdp_and_internet_subset[gdp_and_internet_subset[\"Year\"] == 2014]"
   ]
  },
  {
   "cell_type": "markdown",
   "metadata": {},
   "source": [
    "Top 5 rows for 2014 subset:"
   ]
  },
  {
   "cell_type": "code",
   "execution_count": 540,
   "metadata": {},
   "outputs": [
    {
     "name": "stdout",
     "output_type": "stream",
     "text": [
      "                 Country  Year  GDP_Per_Capita  Internet_Users_Pct\n",
      "4            Afghanistan  2014     1795.735834                6.39\n",
      "21               Albania  2014    10700.993216               60.10\n",
      "50               Algeria  2014    13557.769757               18.09\n",
      "79                Angola  2014     6813.052106               21.26\n",
      "108  Antigua and Barbuda  2014    20440.540555               64.00\n"
     ]
    }
   ],
   "source": [
    "print(gdp_int_14.head())"
   ]
  },
  {
   "cell_type": "markdown",
   "metadata": {},
   "source": [
    "Highest internet users pct for 2014: Iceland, 98.16%"
   ]
  },
  {
   "cell_type": "code",
   "execution_count": 541,
   "metadata": {
    "scrolled": true
   },
   "outputs": [
    {
     "name": "stdout",
     "output_type": "stream",
     "text": [
      "      Country  Year  GDP_Per_Capita  Internet_Users_Pct\n",
      "2581  Iceland  2014    42774.888849               98.16\n"
     ]
    }
   ],
   "source": [
    "print(gdp_int_14[gdp_int_14[\"Internet_Users_Pct\"] == gdp_int_14[\"Internet_Users_Pct\"].max()])"
   ]
  },
  {
   "cell_type": "markdown",
   "metadata": {},
   "source": [
    "Highest internet users pct for 2004: Sweden, 83.89%"
   ]
  },
  {
   "cell_type": "code",
   "execution_count": 542,
   "metadata": {
    "scrolled": true
   },
   "outputs": [
    {
     "name": "stdout",
     "output_type": "stream",
     "text": [
      "     Country  Year  GDP_Per_Capita  Internet_Users_Pct\n",
      "5852  Sweden  2004    40177.850408               83.89\n"
     ]
    }
   ],
   "source": [
    "print(gdp_int_04[gdp_int_04[\"Internet_Users_Pct\"] == gdp_int_04[\"Internet_Users_Pct\"].max()])"
   ]
  },
  {
   "cell_type": "markdown",
   "metadata": {},
   "source": [
    "Highest internet users pct for 2009: Iceland, 93.0%"
   ]
  },
  {
   "cell_type": "code",
   "execution_count": 543,
   "metadata": {
    "scrolled": true
   },
   "outputs": [
    {
     "name": "stdout",
     "output_type": "stream",
     "text": [
      "      Country  Year  GDP_Per_Capita  Internet_Users_Pct\n",
      "2586  Iceland  2009    41505.084834                93.0\n"
     ]
    }
   ],
   "source": [
    "print(gdp_int_09[gdp_int_09[\"Internet_Users_Pct\"] == gdp_int_09[\"Internet_Users_Pct\"].max()])"
   ]
  },
  {
   "cell_type": "markdown",
   "metadata": {},
   "source": [
    "Lowest internet users pct for 2014: Dem. People's Rep. of Korea, 0.0%"
   ]
  },
  {
   "cell_type": "code",
   "execution_count": 544,
   "metadata": {
    "scrolled": true
   },
   "outputs": [
    {
     "name": "stdout",
     "output_type": "stream",
     "text": [
      "                          Country  Year  GDP_Per_Capita  Internet_Users_Pct\n",
      "6940  Dem. People's Rep. of Korea  2014             NaN                 0.0\n"
     ]
    }
   ],
   "source": [
    "print(gdp_int_14[gdp_int_14[\"Internet_Users_Pct\"] == gdp_int_14[\"Internet_Users_Pct\"].min()])"
   ]
  },
  {
   "cell_type": "markdown",
   "metadata": {},
   "source": [
    "Lowest internet users pct for 2004: Dem. People's Rep. of Korea, 0.0%"
   ]
  },
  {
   "cell_type": "code",
   "execution_count": 545,
   "metadata": {
    "scrolled": true
   },
   "outputs": [
    {
     "name": "stdout",
     "output_type": "stream",
     "text": [
      "                          Country  Year  GDP_Per_Capita  Internet_Users_Pct\n",
      "6949  Dem. People's Rep. of Korea  2004             NaN                 0.0\n"
     ]
    }
   ],
   "source": [
    "print(gdp_int_04[gdp_int_04[\"Internet_Users_Pct\"] == gdp_int_04[\"Internet_Users_Pct\"].min()])"
   ]
  },
  {
   "cell_type": "markdown",
   "metadata": {},
   "source": [
    "Lowest internet users pct for 2009: Dem. People's Rep. of Korea, 0.0%"
   ]
  },
  {
   "cell_type": "code",
   "execution_count": 546,
   "metadata": {
    "scrolled": true
   },
   "outputs": [
    {
     "name": "stdout",
     "output_type": "stream",
     "text": [
      "                          Country  Year  GDP_Per_Capita  Internet_Users_Pct\n",
      "6944  Dem. People's Rep. of Korea  2009             NaN                 0.0\n"
     ]
    }
   ],
   "source": [
    "print(gdp_int_09[gdp_int_09[\"Internet_Users_Pct\"] == gdp_int_09[\"Internet_Users_Pct\"].min()])"
   ]
  },
  {
   "cell_type": "markdown",
   "metadata": {},
   "source": [
    "Highest GDP for 2014: Macao SAR, China, $130439"
   ]
  },
  {
   "cell_type": "code",
   "execution_count": 547,
   "metadata": {
    "scrolled": false
   },
   "outputs": [
    {
     "name": "stdout",
     "output_type": "stream",
     "text": [
      "               Country  Year  GDP_Per_Capita  Internet_Users_Pct\n",
      "3639  Macao SAR, China  2014   130439.106674                 NaN\n"
     ]
    }
   ],
   "source": [
    "print(gdp_int_14[gdp_int_14[\"GDP_Per_Capita\"] == gdp_int_14[\"GDP_Per_Capita\"].max()])"
   ]
  },
  {
   "cell_type": "markdown",
   "metadata": {},
   "source": [
    "Lowest GDP for 2014: Central African Republic, $672"
   ]
  },
  {
   "cell_type": "code",
   "execution_count": 548,
   "metadata": {
    "scrolled": true
   },
   "outputs": [
    {
     "name": "stdout",
     "output_type": "stream",
     "text": [
      "                       Country  Year  GDP_Per_Capita  Internet_Users_Pct\n",
      "1014  Central African Republic  2014      672.681648                 NaN\n"
     ]
    }
   ],
   "source": [
    "print(gdp_int_14[gdp_int_14[\"GDP_Per_Capita\"] == gdp_int_14[\"GDP_Per_Capita\"].min()])"
   ]
  },
  {
   "cell_type": "markdown",
   "metadata": {},
   "source": [
    "2004 Internet_Users_Pct vs. GDP_Per_Capita Scatterplot:"
   ]
  },
  {
   "cell_type": "code",
   "execution_count": 549,
   "metadata": {
    "scrolled": true
   },
   "outputs": [
    {
     "data": {
      "image/png": "[encoded data removed]",
      "text/plain": [
       "<Figure size 432x288 with 1 Axes>"
      ]
     },
     "metadata": {
      "needs_background": "light"
     },
     "output_type": "display_data"
    }
   ],
   "source": [
    "plt.scatter(gdp_int_04[\"Internet_Users_Pct\"], gdp_int_04[\"GDP_Per_Capita\"])\n",
    "plt.xlabel(\"Int_Users_Pct\")\n",
    "plt.ylabel(\"GDP_Per_Capita\")\n",
    "plt.title(\"Internet users percentage vs. GDP per capita, 2004\")\n",
    "plt.show()"
   ]
  },
  {
   "cell_type": "markdown",
   "metadata": {},
   "source": [
    "2009 Internet_Users_Pct vs. GDP_Per_Capita Scatterplot:"
   ]
  },
  {
   "cell_type": "code",
   "execution_count": 550,
   "metadata": {
    "scrolled": true
   },
   "outputs": [
    {
     "data": {
      "image/png": "[encoded data removed]",
      "text/plain": [
       "<Figure size 432x288 with 1 Axes>"
      ]
     },
     "metadata": {
      "needs_background": "light"
     },
     "output_type": "display_data"
    }
   ],
   "source": [
    "plt.scatter(gdp_int_09[\"Internet_Users_Pct\"], gdp_int_09[\"GDP_Per_Capita\"])\n",
    "plt.xlabel(\"Int_Users_Pct\")\n",
    "plt.ylabel(\"GDP_Per_Capita\")\n",
    "plt.title(\"Internet users percentage vs. GDP per capita, 2009\")\n",
    "plt.show()"
   ]
  },
  {
   "cell_type": "markdown",
   "metadata": {},
   "source": [
    "2014 Internet_Users_Pct vs. GDP_Per_Capita Scatterplot:"
   ]
  },
  {
   "cell_type": "code",
   "execution_count": 551,
   "metadata": {
    "scrolled": true
   },
   "outputs": [
    {
     "data": {
      "image/png": "[encoded data removed]",
      "text/plain": [
       "<Figure size 432x288 with 1 Axes>"
      ]
     },
     "metadata": {
      "needs_background": "light"
     },
     "output_type": "display_data"
    }
   ],
   "source": [
    "plt.scatter(gdp_int_14[\"Internet_Users_Pct\"], gdp_int_14[\"GDP_Per_Capita\"])\n",
    "plt.xlabel(\"Int_Users_Pct\")\n",
    "plt.ylabel(\"GDP_Per_Capita\")\n",
    "plt.title(\"Internet users percentage vs. GDP per capita, 2014\")\n",
    "plt.show()"
   ]
  },
  {
   "cell_type": "markdown",
   "metadata": {},
   "source": [
    "In 2004, there seemed to be little correlation between internet users percentage and GDP per capita, as many of the highest GDP countries still had a relatively low percentage of internet users. In 2009, there started to be a little bit more of a correlation, as those countries with high gdp but low percentage of internet users started to increase their internet users percentage. By 2014, this trend continued, creating a high correlation between the gdp and internet users percentage."
   ]
  },
  {
   "cell_type": "markdown",
   "metadata": {},
   "source": [
    "For 2014, the GDP per capita distribution seems to be unimodal, with only one peak near 120000."
   ]
  },
  {
   "cell_type": "markdown",
   "metadata": {},
   "source": [
    "The internet use distribution for 2014 also seems to be unimodal, with only one peak near 100 and about 40000 GDP."
   ]
  },
  {
   "cell_type": "markdown",
   "metadata": {},
   "source": [
    "Top 5 countries for internet use: Iceland, Bermuda, Norway, Denmark, Andorra"
   ]
  },
  {
   "cell_type": "code",
   "execution_count": 552,
   "metadata": {},
   "outputs": [
    {
     "name": "stdout",
     "output_type": "stream",
     "text": [
      "      Country  Year  GDP_Per_Capita  Internet_Users_Pct\n",
      "2581  Iceland  2014    42774.888849               98.16\n",
      "6772  Bermuda  2014             NaN               96.80\n",
      "4530   Norway  2014    63328.259526               96.30\n",
      "1404  Denmark  2014    45057.083449               95.99\n",
      "6732  Andorra  2014             NaN               95.90\n"
     ]
    }
   ],
   "source": [
    "print(gdp_int_14.sort_values(by=[\"Internet_Users_Pct\"], ascending=False).head(5))"
   ]
  },
  {
   "cell_type": "markdown",
   "metadata": {},
   "source": [
    "New subset for top 5 countries for all three years:"
   ]
  },
  {
   "cell_type": "code",
   "execution_count": 553,
   "metadata": {},
   "outputs": [],
   "source": [
    "top_5_internet = gdp_and_internet_subset[gdp_and_internet_subset[\"Country\"].isin([\"Iceland\", \"Bermuda\", \"Norway\", \"Denmark\", \"Andorra\"])]"
   ]
  },
  {
   "cell_type": "code",
   "execution_count": 554,
   "metadata": {
    "scrolled": true
   },
   "outputs": [
    {
     "name": "stdout",
     "output_type": "stream",
     "text": [
      "      Country  Year  GDP_Per_Capita  Internet_Users_Pct\n",
      "6742  Andorra  2004             NaN           26.837954\n",
      "6737  Andorra  2009             NaN           78.530000\n",
      "6732  Andorra  2014             NaN           95.900000\n",
      "547   Bermuda  2004    55452.638880           60.990867\n",
      "542   Bermuda  2009    57151.919132           83.250000\n",
      "6772  Bermuda  2014             NaN           96.800000\n",
      "1414  Denmark  2004    43670.446201           80.930000\n",
      "1409  Denmark  2009    43382.615688           86.840000\n",
      "1404  Denmark  2014    45057.083449           95.990000\n",
      "2591  Iceland  2004    38893.378798           83.880000\n",
      "2586  Iceland  2009    41505.084834           93.000000\n",
      "2581  Iceland  2014    42774.888849           98.160000\n",
      "4540   Norway  2004    61612.275634           77.690000\n",
      "4535   Norway  2009    62617.153609           92.080000\n",
      "4530   Norway  2014    63328.259526           96.300000\n"
     ]
    }
   ],
   "source": [
    "top_5_sort = top_5_internet.sort_values(by=[\"Country\", \"Year\"])\n",
    "print(top_5_sort)"
   ]
  },
  {
   "cell_type": "markdown",
   "metadata": {},
   "source": [
    "Seaborn FacetGrid of internet usage percentage across the three years for each country in the top 5:"
   ]
  },
  {
   "cell_type": "code",
   "execution_count": 555,
   "metadata": {},
   "outputs": [
    {
     "data": {
      "image/png": "[encoded data removed]",
      "text/plain": [
       "<Figure size 1080x216 with 5 Axes>"
      ]
     },
     "metadata": {
      "needs_background": "light"
     },
     "output_type": "display_data"
    }
   ],
   "source": [
    "g = sns.FacetGrid(top_5_sort, col=\"Country\").set(xlim=(2003, 2015), ylim=(60, 100), xticks=[2004, 2009, 2014], yticks=[70, 80, 90, 100])\n",
    "g = g.map(plt.bar, \"Year\", \"Internet_Users_Pct\")"
   ]
  },
  {
   "cell_type": "markdown",
   "metadata": {},
   "source": [
    "Andorra had the biggest difference between 2004 and 2014, with a 69% jump."
   ]
  },
  {
   "cell_type": "markdown",
   "metadata": {},
   "source": [
    "The bottom 5 countries by internet users percentage in 2014: Dem. People's Rep. of Korea, Eritrea, Timor-Leste, Burundi, Somalia"
   ]
  },
  {
   "cell_type": "code",
   "execution_count": 556,
   "metadata": {
    "scrolled": true
   },
   "outputs": [
    {
     "name": "stdout",
     "output_type": "stream",
     "text": [
      "                          Country  Year  GDP_Per_Capita  Internet_Users_Pct\n",
      "6940  Dem. People's Rep. of Korea  2014             NaN                0.00\n",
      "6999                      Eritrea  2014             NaN                0.99\n",
      "6044                  Timor-Leste  2014     6466.737732                1.14\n",
      "794                       Burundi  2014      768.469837                1.38\n",
      "7521                      Somalia  2014             NaN                1.63\n"
     ]
    }
   ],
   "source": [
    "print(gdp_int_14.sort_values(by=[\"Internet_Users_Pct\"]).head(5))"
   ]
  },
  {
   "cell_type": "markdown",
   "metadata": {},
   "source": [
    "Subset for the bottom 5 countries for each of the three years:"
   ]
  },
  {
   "cell_type": "code",
   "execution_count": 557,
   "metadata": {},
   "outputs": [],
   "source": [
    "bottom_5_internet = gdp_and_internet_subset[gdp_and_internet_subset[\"Country\"].isin([\"Dem. People's Rep. of Korea\", \"Eritrea\", \"Timor-Leste\", \"Burundi\", \"Somalia\"])]"
   ]
  },
  {
   "cell_type": "code",
   "execution_count": 558,
   "metadata": {
    "scrolled": true
   },
   "outputs": [
    {
     "name": "stdout",
     "output_type": "stream",
     "text": [
      "                          Country  Year  GDP_Per_Capita  Internet_Users_Pct\n",
      "794                       Burundi  2014      768.469837            1.380000\n",
      "799                       Burundi  2009      721.063140            0.900000\n",
      "804                       Burundi  2004      708.833720            0.349060\n",
      "1722                      Eritrea  2009     1950.533339            0.540000\n",
      "1727                      Eritrea  2004     2317.349879                 NaN\n",
      "6044                  Timor-Leste  2014     6466.737732            1.140000\n",
      "6049                  Timor-Leste  2009     9275.529371            0.185252\n",
      "6054                  Timor-Leste  2004     4898.575839                 NaN\n",
      "6940  Dem. People's Rep. of Korea  2014             NaN            0.000000\n",
      "6944  Dem. People's Rep. of Korea  2009             NaN            0.000000\n",
      "6949  Dem. People's Rep. of Korea  2004             NaN            0.000000\n",
      "6999                      Eritrea  2014             NaN            0.990000\n",
      "7521                      Somalia  2014             NaN            1.630000\n",
      "7525                      Somalia  2009             NaN            1.160611\n",
      "7530                      Somalia  2004             NaN            1.053455\n"
     ]
    }
   ],
   "source": [
    "print(bottom_5_internet)"
   ]
  },
  {
   "cell_type": "markdown",
   "metadata": {},
   "source": [
    "Seaborn FacetGrid of internet usage percentage across the three years for each country in the bottom 5:"
   ]
  },
  {
   "cell_type": "code",
   "execution_count": 559,
   "metadata": {
    "scrolled": true
   },
   "outputs": [
    {
     "data": {
      "image/png": "[encoded data removed]",
      "text/plain": [
       "<Figure size 1080x216 with 5 Axes>"
      ]
     },
     "metadata": {
      "needs_background": "light"
     },
     "output_type": "display_data"
    }
   ],
   "source": [
    "g = sns.FacetGrid(bottom_5_internet, col=\"Country\").set(xlim=(2003, 2015), ylim=(0, 2.5), xticks=[2004, 2009, 2014], yticks=[.5, 1, 1.5, 2, 2.5])\n",
    "g = g.map(plt.bar, \"Year\", \"Internet_Users_Pct\")"
   ]
  },
  {
   "cell_type": "markdown",
   "metadata": {},
   "source": [
    "Dem. People's Rep. of Korea consistently has the lowest, with no internet users in all 3 years."
   ]
  },
  {
   "cell_type": "markdown",
   "metadata": {},
   "source": [
    "Bottom 5 countries for GDP: Central African Republic, Burundi, Dem. Rep. Congo, Niger, Malawi"
   ]
  },
  {
   "cell_type": "code",
   "execution_count": 560,
   "metadata": {},
   "outputs": [
    {
     "name": "stdout",
     "output_type": "stream",
     "text": [
      "                       Country  Year  GDP_Per_Capita  Internet_Users_Pct\n",
      "1014  Central African Republic  2014      672.681648                 NaN\n",
      "794                    Burundi  2014      768.469837                1.38\n",
      "1375           Dem. Rep. Congo  2014      784.872656                 NaN\n",
      "4414                     Niger  2014      900.136918                1.95\n",
      "3697                    Malawi  2014     1142.530804                5.83\n"
     ]
    }
   ],
   "source": [
    "print(gdp_int_14.sort_values(by=[\"GDP_Per_Capita\"]).head(5))"
   ]
  },
  {
   "cell_type": "markdown",
   "metadata": {},
   "source": [
    "Subset for bottom 5 countries across all years:"
   ]
  },
  {
   "cell_type": "code",
   "execution_count": 561,
   "metadata": {},
   "outputs": [],
   "source": [
    "bot_5_gdp = gdp_and_internet_use[gdp_and_internet_use[\"Country\"].isin([\"Central African Republic\", \"Burundi\", \"Dem. Rep. Congo\", \"Niger\", \"Malawi\"])]"
   ]
  },
  {
   "cell_type": "markdown",
   "metadata": {},
   "source": [
    "Subset for bottom 5 countries from 2004-2014:"
   ]
  },
  {
   "cell_type": "code",
   "execution_count": 562,
   "metadata": {},
   "outputs": [],
   "source": [
    "bot_5_10_years = bot_5_gdp[bot_5_gdp[\"Year\"].isin([2004, 2005, 2006, 2007, 2008, 2009, 2010, 2011, 2012, 2013, 2014])]"
   ]
  },
  {
   "cell_type": "code",
   "execution_count": 563,
   "metadata": {},
   "outputs": [
    {
     "name": "stdout",
     "output_type": "stream",
     "text": [
      "                       Country  Year  GDP_Per_Capita  Internet_Users_Pct\n",
      "794                    Burundi  2014      768.469837            1.380000\n",
      "795                    Burundi  2013      760.699070            1.300000\n",
      "796                    Burundi  2012      748.075521            1.220000\n",
      "797                    Burundi  2011      739.219255            1.110000\n",
      "798                    Burundi  2010      733.727723            1.000000\n",
      "799                    Burundi  2009      721.063140            0.900000\n",
      "800                    Burundi  2008      717.792712            0.810000\n",
      "801                    Burundi  2007      707.488696            0.700000\n",
      "802                    Burundi  2006      706.746701            0.657593\n",
      "803                    Burundi  2005      692.569819            0.542143\n",
      "804                    Burundi  2004      708.833720            0.349060\n",
      "1014  Central African Republic  2014      672.681648                 NaN\n",
      "1015  Central African Republic  2013      674.589742                 NaN\n",
      "1016  Central African Republic  2012     1063.297485                 NaN\n",
      "1017  Central African Republic  2011     1016.218552                 NaN\n",
      "1018  Central African Republic  2010      982.393326                 NaN\n",
      "1019  Central African Republic  2009      949.551325                 NaN\n",
      "1020  Central African Republic  2008      887.608558                 NaN\n",
      "1021  Central African Republic  2007      885.355141                 NaN\n",
      "1022  Central African Republic  2006      862.788595                 NaN\n",
      "1023  Central African Republic  2005      839.748378                 NaN\n",
      "1024  Central African Republic  2004      848.689032                 NaN\n",
      "1375           Dem. Rep. Congo  2014      784.872656                 NaN\n",
      "1376           Dem. Rep. Congo  2013      741.173888                 NaN\n",
      "1377           Dem. Rep. Congo  2012      706.367203                 NaN\n",
      "1378           Dem. Rep. Congo  2011      682.007332                 NaN\n",
      "1379           Dem. Rep. Congo  2010      659.795884                 NaN\n",
      "1380           Dem. Rep. Congo  2009      636.875743                 NaN\n",
      "1381           Dem. Rep. Congo  2008      640.079810                 NaN\n",
      "1382           Dem. Rep. Congo  2007      622.743609                 NaN\n",
      "1383           Dem. Rep. Congo  2006      605.488092                 NaN\n",
      "1384           Dem. Rep. Congo  2005      593.703717                 NaN\n",
      "1385           Dem. Rep. Congo  2004      577.483297                 NaN\n",
      "3697                    Malawi  2014     1142.530804            5.830000\n",
      "3698                    Malawi  2013     1111.646274            5.050000\n",
      "3699                    Malawi  2012     1087.121207            4.350600\n",
      "3700                    Malawi  2011     1097.942135            3.330000\n",
      "3701                    Malawi  2010     1077.542244            2.260000\n",
      "3702                    Malawi  2009     1037.598513            1.070000\n",
      "3703                    Malawi  2008      985.756919            0.700000\n",
      "3704                    Malawi  2007      942.293892            0.965865\n",
      "3705                    Malawi  2006      884.151373            0.425137\n",
      "3706                    Malawi  2005      867.720040            0.384489\n",
      "3707                    Malawi  2004      862.392437            0.347505\n",
      "4414                     Niger  2014      900.136918            1.950000\n",
      "4415                     Niger  2013      870.401840            1.700000\n",
      "4416                     Niger  2012      859.786591            1.407700\n",
      "4417                     Niger  2011      799.258376            1.300000\n",
      "4418                     Niger  2010      812.303874            0.830000\n",
      "4419                     Niger  2009      778.982257            0.760000\n",
      "4420                     Niger  2008      815.040394            0.700000\n",
      "4421                     Niger  2007      772.373364            0.390391\n",
      "4422                     Niger  2006      777.475818            0.294034\n",
      "4423                     Niger  2005      762.874429            0.221341\n",
      "4424                     Niger  2004      757.751262            0.189934\n"
     ]
    }
   ],
   "source": [
    "print(bot_5_10_years)"
   ]
  },
  {
   "cell_type": "code",
   "execution_count": 564,
   "metadata": {},
   "outputs": [
    {
     "data": {
      "image/png": "[encoded data removed]",
      "text/plain": [
       "<Figure size 1080x216 with 5 Axes>"
      ]
     },
     "metadata": {
      "needs_background": "light"
     },
     "output_type": "display_data"
    }
   ],
   "source": [
    "g = sns.FacetGrid(bot_5_10_years, col=\"Country\").set(xlim=(2003, 2015), ylim=(650, 1300), xticks=[2004, 2006, 2008, 2010, 2012, 2014], yticks=[700, 800, 900, 1000, 1100, 1200, 1300])\n",
    "g = g.map(plt.plot, \"Year\", \"GDP_Per_Capita\")"
   ]
  },
  {
   "cell_type": "markdown",
   "metadata": {},
   "source": [
    "The GDP for the Central African Republic dropped significantly in 2012. This is because of a civil war that started in that year and has been ongoing since. The civil war has caused at least 5,186 deaths and displaced 288,000 refugees."
   ]
  },
  {
   "cell_type": "markdown",
   "metadata": {},
   "source": [
    "Bonus:"
   ]
  },
  {
   "cell_type": "markdown",
   "metadata": {},
   "source": [
    "Read in a new csv file: Gives measurement on social inclusion/equity on a 0-6 scale"
   ]
  },
  {
   "cell_type": "code",
   "execution_count": 565,
   "metadata": {},
   "outputs": [],
   "source": [
    "equity_df = pd.read_csv(\"/Users/adamtsuchiyama/Documents/gdp-and-internet-usage-adamtsuch21/data/cpia_equality_rating.csv\", nrows=1616)"
   ]
  },
  {
   "cell_type": "code",
   "execution_count": 566,
   "metadata": {
    "scrolled": true
   },
   "outputs": [
    {
     "name": "stdout",
     "output_type": "stream",
     "text": [
      "     Country or Area  Year  Value  Value Footnotes\n",
      "1606        Zimbabwe  2014    3.1              NaN\n",
      "1607        Zimbabwe  2013    2.5              NaN\n",
      "1608        Zimbabwe  2012    2.4              NaN\n",
      "1609        Zimbabwe  2011    2.4              NaN\n",
      "1610        Zimbabwe  2010    1.8              NaN\n",
      "1611        Zimbabwe  2009    1.6              NaN\n",
      "1612        Zimbabwe  2008    1.5              NaN\n",
      "1613        Zimbabwe  2007    1.8              NaN\n",
      "1614        Zimbabwe  2006    2.0              NaN\n",
      "1615        Zimbabwe  2005    2.0              NaN\n"
     ]
    }
   ],
   "source": [
    "print(equity_df.tail(10))"
   ]
  },
  {
   "cell_type": "markdown",
   "metadata": {},
   "source": [
    "Dropped the Value Footnotes column:"
   ]
  },
  {
   "cell_type": "code",
   "execution_count": 567,
   "metadata": {},
   "outputs": [],
   "source": [
    "equity_df = equity_df.drop(\"Value Footnotes\", axis=1)"
   ]
  },
  {
   "cell_type": "markdown",
   "metadata": {},
   "source": [
    "Changed the names of the columns:"
   ]
  },
  {
   "cell_type": "code",
   "execution_count": 568,
   "metadata": {},
   "outputs": [],
   "source": [
    "equity_df = equity_df.rename(columns={\"Country or Area\" : \"Country\", \"Year\" : \"Year\", \"Value\" : \"Equity_Rating\"})"
   ]
  },
  {
   "cell_type": "code",
   "execution_count": 569,
   "metadata": {
    "scrolled": true
   },
   "outputs": [
    {
     "name": "stdout",
     "output_type": "stream",
     "text": [
      "          Country  Year  Equity_Rating\n",
      "0     Afghanistan  2018            2.6\n",
      "1     Afghanistan  2017            2.6\n",
      "2     Afghanistan  2016            2.6\n",
      "3     Afghanistan  2015            2.6\n",
      "4     Afghanistan  2014            2.6\n",
      "...           ...   ...            ...\n",
      "1611     Zimbabwe  2009            1.6\n",
      "1612     Zimbabwe  2008            1.5\n",
      "1613     Zimbabwe  2007            1.8\n",
      "1614     Zimbabwe  2006            2.0\n",
      "1615     Zimbabwe  2005            2.0\n",
      "\n",
      "[1616 rows x 3 columns]\n"
     ]
    }
   ],
   "source": [
    "print(equity_df)"
   ]
  },
  {
   "cell_type": "markdown",
   "metadata": {},
   "source": [
    "Check the shape and data types:"
   ]
  },
  {
   "cell_type": "code",
   "execution_count": 570,
   "metadata": {},
   "outputs": [
    {
     "name": "stdout",
     "output_type": "stream",
     "text": [
      "(1616, 3)\n"
     ]
    }
   ],
   "source": [
    "print(np.shape(equity_df))"
   ]
  },
  {
   "cell_type": "code",
   "execution_count": 571,
   "metadata": {
    "scrolled": true
   },
   "outputs": [
    {
     "name": "stdout",
     "output_type": "stream",
     "text": [
      "Country           object\n",
      "Year               int64\n",
      "Equity_Rating    float64\n",
      "dtype: object\n"
     ]
    }
   ],
   "source": [
    "print(equity_df.dtypes)"
   ]
  },
  {
   "cell_type": "markdown",
   "metadata": {},
   "source": [
    "Combined the new dataset with the gdp and internet dataset:"
   ]
  },
  {
   "cell_type": "code",
   "execution_count": 572,
   "metadata": {},
   "outputs": [],
   "source": [
    "bonus_joined_df = pd.merge(gdp_and_internet_use, equity_df, on=[\"Country\", \"Year\"], how=\"outer\")"
   ]
  },
  {
   "cell_type": "code",
   "execution_count": 573,
   "metadata": {},
   "outputs": [
    {
     "name": "stdout",
     "output_type": "stream",
     "text": [
      "       Country  Year  GDP_Per_Capita  Internet_Users_Pct  Equity_Rating\n",
      "0  Afghanistan  2018     1734.723214                 NaN            2.6\n",
      "1  Afghanistan  2017     1758.465636                 NaN            2.6\n",
      "2  Afghanistan  2016     1757.023490                 NaN            2.6\n",
      "3  Afghanistan  2015     1766.593077                 NaN            2.6\n",
      "4  Afghanistan  2014     1795.735834                6.39            2.6\n"
     ]
    }
   ],
   "source": [
    "print(bonus_joined_df.head())"
   ]
  },
  {
   "cell_type": "markdown",
   "metadata": {},
   "source": [
    "Checked the shape:"
   ]
  },
  {
   "cell_type": "code",
   "execution_count": 574,
   "metadata": {
    "scrolled": false
   },
   "outputs": [
    {
     "name": "stdout",
     "output_type": "stream",
     "text": [
      "(7721, 5)\n"
     ]
    }
   ],
   "source": [
    "print(np.shape(bonus_joined_df))"
   ]
  },
  {
   "cell_type": "code",
   "execution_count": 575,
   "metadata": {
    "scrolled": false
   },
   "outputs": [],
   "source": [
    "bonus_05 = bonus_joined_df[bonus_joined_df[\"Year\"] == 2005]"
   ]
  },
  {
   "cell_type": "code",
   "execution_count": 576,
   "metadata": {},
   "outputs": [
    {
     "data": {
      "image/png": "[encoded data removed]",
      "text/plain": [
       "<Figure size 432x288 with 1 Axes>"
      ]
     },
     "metadata": {
      "needs_background": "light"
     },
     "output_type": "display_data"
    }
   ],
   "source": [
    "plt.scatter(bonus_05[\"Equity_Rating\"], bonus_05[\"Internet_Users_Pct\"])\n",
    "plt.ylabel(\"Int Users Pct\")\n",
    "plt.xlabel(\"Equity Rating\")\n",
    "plt.title(\"Internet users percentage vs. Equity Rating, 2005\")\n",
    "plt.show()"
   ]
  },
  {
   "cell_type": "code",
   "execution_count": 577,
   "metadata": {},
   "outputs": [],
   "source": [
    "bonus_09 = bonus_joined_df[bonus_joined_df[\"Year\"] == 2009]"
   ]
  },
  {
   "cell_type": "code",
   "execution_count": 578,
   "metadata": {
    "scrolled": true
   },
   "outputs": [
    {
     "data": {
      "image/png": "[encoded data removed]",
      "text/plain": [
       "<Figure size 432x288 with 1 Axes>"
      ]
     },
     "metadata": {
      "needs_background": "light"
     },
     "output_type": "display_data"
    }
   ],
   "source": [
    "plt.scatter(bonus_09[\"Equity_Rating\"], bonus_09[\"Internet_Users_Pct\"])\n",
    "plt.ylabel(\"Int Users Pct\")\n",
    "plt.xlabel(\"Equity Rating\")\n",
    "plt.title(\"Internet users percentage vs. Equity Rating, 2009\")\n",
    "plt.show()"
   ]
  },
  {
   "cell_type": "code",
   "execution_count": 579,
   "metadata": {},
   "outputs": [],
   "source": [
    "bonus_14 = bonus_joined_df[bonus_joined_df[\"Year\"] == 2014]"
   ]
  },
  {
   "cell_type": "code",
   "execution_count": 580,
   "metadata": {
    "scrolled": true
   },
   "outputs": [
    {
     "data": {
      "image/png": "[encoded data removed]",
      "text/plain": [
       "<Figure size 432x288 with 1 Axes>"
      ]
     },
     "metadata": {
      "needs_background": "light"
     },
     "output_type": "display_data"
    }
   ],
   "source": [
    "plt.scatter(bonus_14[\"Equity_Rating\"], bonus_14[\"Internet_Users_Pct\"])\n",
    "plt.ylabel(\"Int Users Pct\")\n",
    "plt.xlabel(\"Equity Rating\")\n",
    "plt.title(\"Internet users percentage vs. Equity Rating, 2014\")\n",
    "plt.show()"
   ]
  },
  {
   "cell_type": "markdown",
   "metadata": {},
   "source": [
    "There doesn't seem to be much of a correlation between internet usage and equity rating."
   ]
  },
  {
   "cell_type": "code",
   "execution_count": 581,
   "metadata": {},
   "outputs": [
    {
     "data": {
      "image/png": "[encoded data removed]",
      "text/plain": [
       "<Figure size 432x288 with 1 Axes>"
      ]
     },
     "metadata": {
      "needs_background": "light"
     },
     "output_type": "display_data"
    }
   ],
   "source": [
    "plt.scatter(bonus_05[\"Equity_Rating\"], bonus_05[\"GDP_Per_Capita\"])\n",
    "plt.ylabel(\"GDP Per Capita\")\n",
    "plt.xlabel(\"Equity Rating\")\n",
    "plt.title(\"GDP Per Capita vs. Equity Rating, 2005\")\n",
    "plt.show()"
   ]
  },
  {
   "cell_type": "code",
   "execution_count": 582,
   "metadata": {},
   "outputs": [
    {
     "data": {
      "image/png": "[encoded data removed]",
      "text/plain": [
       "<Figure size 432x288 with 1 Axes>"
      ]
     },
     "metadata": {
      "needs_background": "light"
     },
     "output_type": "display_data"
    }
   ],
   "source": [
    "plt.scatter(bonus_09[\"Equity_Rating\"], bonus_09[\"GDP_Per_Capita\"])\n",
    "plt.ylabel(\"GDP Per Capita\")\n",
    "plt.xlabel(\"Equity Rating\")\n",
    "plt.title(\"GDP Per Capita vs. Equity Rating, 2009\")\n",
    "plt.show()"
   ]
  },
  {
   "cell_type": "code",
   "execution_count": 583,
   "metadata": {},
   "outputs": [
    {
     "data": {
      "image/png": "[encoded data removed]",
      "text/plain": [
       "<Figure size 432x288 with 1 Axes>"
      ]
     },
     "metadata": {
      "needs_background": "light"
     },
     "output_type": "display_data"
    }
   ],
   "source": [
    "plt.scatter(bonus_14[\"Equity_Rating\"], bonus_14[\"GDP_Per_Capita\"])\n",
    "plt.ylabel(\"GDP Per Capita\")\n",
    "plt.xlabel(\"Equity Rating\")\n",
    "plt.title(\"GDP Per Capita vs. Equity Rating, 2014\")\n",
    "plt.show()"
   ]
  },
  {
   "cell_type": "markdown",
   "metadata": {},
   "source": [
    "There also doesn't seeem to be much of a correlation between GDP and Equity."
   ]
  },
  {
   "cell_type": "markdown",
   "metadata": {},
   "source": [
    "read in another new dataset to see if there is a correlation: A measurement of methane emissions."
   ]
  },
  {
   "cell_type": "code",
   "execution_count": 584,
   "metadata": {},
   "outputs": [],
   "source": [
    "methane_df = pd.read_csv(\"/Users/adamtsuchiyama/Documents/gdp-and-internet-usage-adamtsuch21/data/methane_emissions.csv\")"
   ]
  },
  {
   "cell_type": "code",
   "execution_count": 585,
   "metadata": {
    "scrolled": true
   },
   "outputs": [
    {
     "name": "stdout",
     "output_type": "stream",
     "text": [
      "               Country or Area  Year          Value\n",
      "1199  United States of America  1994  775160.650515\n",
      "1200  United States of America  1993  770308.404132\n",
      "1201  United States of America  1992  783176.601955\n",
      "1202  United States of America  1991  784384.855932\n",
      "1203  United States of America  1990  779845.550088\n"
     ]
    }
   ],
   "source": [
    "print(methane_df.tail())"
   ]
  },
  {
   "cell_type": "code",
   "execution_count": 586,
   "metadata": {},
   "outputs": [
    {
     "name": "stdout",
     "output_type": "stream",
     "text": [
      "     Country or Area  Year          Value\n",
      "1199   United States  1994  775160.650515\n",
      "1200   United States  1993  770308.404132\n",
      "1201   United States  1992  783176.601955\n",
      "1202   United States  1991  784384.855932\n",
      "1203   United States  1990  779845.550088\n"
     ]
    }
   ],
   "source": [
    "methane_df = methane_df.replace({\"United States of America\" : \"United States\"})\n",
    "print(methane_df.tail())"
   ]
  },
  {
   "cell_type": "code",
   "execution_count": 587,
   "metadata": {},
   "outputs": [
    {
     "name": "stdout",
     "output_type": "stream",
     "text": [
      "(1204, 3)\n"
     ]
    }
   ],
   "source": [
    "print(np.shape(methane_df))"
   ]
  },
  {
   "cell_type": "code",
   "execution_count": 588,
   "metadata": {},
   "outputs": [
    {
     "name": "stdout",
     "output_type": "stream",
     "text": [
      "Country or Area     object\n",
      "Year                 int64\n",
      "Value              float64\n",
      "dtype: object\n"
     ]
    }
   ],
   "source": [
    "print(methane_df.dtypes)"
   ]
  },
  {
   "cell_type": "code",
   "execution_count": 589,
   "metadata": {},
   "outputs": [],
   "source": [
    "methane_df = methane_df.rename(columns={\"Country or Area\" : \"Country\", \"Year\" : \"Year\", \"Value\" : \"Methane_Emissions\"})"
   ]
  },
  {
   "cell_type": "code",
   "execution_count": 590,
   "metadata": {},
   "outputs": [
    {
     "name": "stdout",
     "output_type": "stream",
     "text": [
      "     Country  Year  Methane_Emissions\n",
      "0  Australia  2017      103602.315960\n",
      "1  Australia  2016      102048.499976\n",
      "2  Australia  2015      101348.199104\n",
      "3  Australia  2014      100888.745880\n",
      "4  Australia  2013      102966.818423\n"
     ]
    }
   ],
   "source": [
    "print(methane_df.head())"
   ]
  },
  {
   "cell_type": "code",
   "execution_count": 591,
   "metadata": {},
   "outputs": [
    {
     "name": "stdout",
     "output_type": "stream",
     "text": [
      "            Country  Year  GDP_Per_Capita  Internet_Users_Pct  \\\n",
      "6385  United States  2018    55719.119981                 NaN   \n",
      "6386  United States  2017    54470.796670                 NaN   \n",
      "6387  United States  2016    53631.757624                 NaN   \n",
      "6388  United States  2015    53187.573374                 NaN   \n",
      "6389  United States  2014    52080.792568           87.360000   \n",
      "6390  United States  2013    51208.892428           84.200000   \n",
      "6391  United States  2012    50632.443448           79.300000   \n",
      "6392  United States  2011    49883.113984           69.729461   \n",
      "6393  United States  2010    49479.248679           71.690000   \n",
      "6394  United States  2009    48644.151110           71.000000   \n",
      "6395  United States  2008    50349.715322           74.000000   \n",
      "6396  United States  2007    50897.731238           75.000000   \n",
      "6397  United States  2006    50437.806235           68.931193   \n",
      "6398  United States  2005    49512.926789           67.968053   \n",
      "6399  United States  2004    48275.386104           64.758256   \n",
      "6400  United States  2003    46941.003291           61.697117   \n",
      "6401  United States  2002    46029.198996           58.785404   \n",
      "6402  United States  2001    45662.934837           49.080832   \n",
      "6403  United States  2000    45661.268667           43.079163   \n",
      "6404  United States  1999    44342.001610           35.848724   \n",
      "6405  United States  1998    42818.852352           30.093197   \n",
      "6406  United States  1997    41462.801461           21.616401   \n",
      "6407  United States  1996    40178.202688           16.419353   \n",
      "6408  United States  1995    39170.656714            9.237088   \n",
      "6409  United States  1994    38603.651201            4.862781   \n",
      "6410  United States  1993    37566.468232            2.271673   \n",
      "6411  United States  1992    37045.330120            1.724203   \n",
      "6412  United States  1991    36284.582233            1.163194   \n",
      "6413  United States  1990    36812.545745            0.784729   \n",
      "\n",
      "      Methane_Emissions  \n",
      "6385                NaN  \n",
      "6386      656316.679086  \n",
      "6387      654897.883632  \n",
      "6388      661395.919895  \n",
      "6389      662064.220621  \n",
      "6390      663042.641153  \n",
      "6391      665372.403524  \n",
      "6392      675544.901685  \n",
      "6393      697450.403532  \n",
      "6394      692676.127285  \n",
      "6395      702303.384076  \n",
      "6396      694607.583656  \n",
      "6397      691977.797639  \n",
      "6398      691430.647690  \n",
      "6399      687548.988671  \n",
      "6400      695433.020499  \n",
      "6401      694953.631731  \n",
      "6402      703915.003543  \n",
      "6403      709304.022944  \n",
      "6404      717451.034921  \n",
      "6405      729618.316620  \n",
      "6406      744932.926189  \n",
      "6407      759491.158168  \n",
      "6408      767845.344228  \n",
      "6409      775160.650515  \n",
      "6410      770308.404132  \n",
      "6411      783176.601955  \n",
      "6412      784384.855932  \n",
      "6413      779845.550088  \n",
      "       Country  Year  GDP_Per_Capita  Internet_Users_Pct  Methane_Emissions\n",
      "7818  Slovakia  1994             NaN                 NaN        5813.179231\n",
      "7819  Slovakia  1993             NaN                 NaN        5981.506299\n",
      "7820  Slovakia  1992             NaN                 NaN        6383.011924\n",
      "7821  Slovakia  1991             NaN                 NaN        6719.534956\n",
      "7822  Slovakia  1990             NaN                 NaN        6992.972688\n"
     ]
    }
   ],
   "source": [
    "methane_joined_df = pd.merge(gdp_and_internet_use, methane_df, on=[\"Country\", \"Year\"], how=\"outer\")\n",
    "print(methane_joined_df[methane_joined_df[\"Country\"].isin([\"United States\"])])\n",
    "print(methane_joined_df.tail())"
   ]
  },
  {
   "cell_type": "code",
   "execution_count": 592,
   "metadata": {},
   "outputs": [],
   "source": [
    "methane_04 = methane_joined_df[methane_joined_df[\"Year\"] == 2004]"
   ]
  },
  {
   "cell_type": "code",
   "execution_count": 593,
   "metadata": {},
   "outputs": [
    {
     "name": "stdout",
     "output_type": "stream",
     "text": [
      "                 Country  Year  GDP_Per_Capita  Internet_Users_Pct  \\\n",
      "14           Afghanistan  2004     1025.208245            0.105809   \n",
      "31               Albania  2004     7001.054082            2.420388   \n",
      "60               Algeria  2004    11845.170512            4.634475   \n",
      "89                Angola  2004     4604.657044            0.464815   \n",
      "118  Antigua and Barbuda  2004    21161.123532           24.266544   \n",
      "\n",
      "     Methane_Emissions  \n",
      "14                 NaN  \n",
      "31                 NaN  \n",
      "60                 NaN  \n",
      "89                 NaN  \n",
      "118                NaN  \n"
     ]
    }
   ],
   "source": [
    "print(methane_04.head())"
   ]
  },
  {
   "cell_type": "code",
   "execution_count": 594,
   "metadata": {},
   "outputs": [
    {
     "data": {
      "image/png": "[encoded data removed]",
      "text/plain": [
       "<Figure size 432x288 with 1 Axes>"
      ]
     },
     "metadata": {
      "needs_background": "light"
     },
     "output_type": "display_data"
    }
   ],
   "source": [
    "plt.scatter(methane_04[\"Methane_Emissions\"], methane_04[\"Internet_Users_Pct\"])\n",
    "plt.ylabel(\"Int Users Pct\")\n",
    "plt.xlabel(\"Methane Emissions\")\n",
    "plt.title(\"Internet users percentage vs. Methane Emissions, 2004\")\n",
    "plt.show()"
   ]
  },
  {
   "cell_type": "code",
   "execution_count": 595,
   "metadata": {},
   "outputs": [],
   "source": [
    "methane_09 = methane_joined_df[methane_joined_df[\"Year\"] == 2009]"
   ]
  },
  {
   "cell_type": "code",
   "execution_count": 596,
   "metadata": {},
   "outputs": [
    {
     "data": {
      "image/png": "[encoded data removed]",
      "text/plain": [
       "<Figure size 432x288 with 1 Axes>"
      ]
     },
     "metadata": {
      "needs_background": "light"
     },
     "output_type": "display_data"
    }
   ],
   "source": [
    "plt.scatter(methane_09[\"Methane_Emissions\"], methane_09[\"Internet_Users_Pct\"])\n",
    "plt.ylabel(\"Int Users Pct\")\n",
    "plt.xlabel(\"Methane Emissions\")\n",
    "plt.title(\"Internet users percentage vs. Methane Emissions, 2009\")\n",
    "plt.show()"
   ]
  },
  {
   "cell_type": "code",
   "execution_count": 597,
   "metadata": {},
   "outputs": [],
   "source": [
    "methane_14 = methane_joined_df[methane_joined_df[\"Year\"] == 2014]"
   ]
  },
  {
   "cell_type": "code",
   "execution_count": 598,
   "metadata": {},
   "outputs": [
    {
     "data": {
      "image/png": "[encoded data removed]",
      "text/plain": [
       "<Figure size 432x288 with 1 Axes>"
      ]
     },
     "metadata": {
      "needs_background": "light"
     },
     "output_type": "display_data"
    }
   ],
   "source": [
    "plt.scatter(methane_14[\"Methane_Emissions\"], methane_14[\"Internet_Users_Pct\"])\n",
    "plt.ylabel(\"Int Users Pct\")\n",
    "plt.xlabel(\"Methane Emissions\")\n",
    "plt.title(\"Internet users percentage vs. Methane Emissions, 2014\")\n",
    "plt.show()"
   ]
  },
  {
   "cell_type": "markdown",
   "metadata": {},
   "source": [
    "There doesn't seem to be much of correlation between internet usage and methane emissions."
   ]
  },
  {
   "cell_type": "code",
   "execution_count": 612,
   "metadata": {
    "scrolled": true
   },
   "outputs": [
    {
     "data": {
      "image/png": "[encoded data removed]",
      "text/plain": [
       "<Figure size 432x288 with 1 Axes>"
      ]
     },
     "metadata": {
      "needs_background": "light"
     },
     "output_type": "display_data"
    }
   ],
   "source": [
    "plt.scatter(methane_04[\"Methane_Emissions\"], methane_04[\"GDP_Per_Capita\"])\n",
    "plt.ylabel(\"GDP Per Capita\")\n",
    "plt.xlabel(\"Methane Emissions\")\n",
    "plt.title(\"GDP Per Capita vs. Methane Emissions, 2004\")\n",
    "plt.show()"
   ]
  },
  {
   "cell_type": "markdown",
   "metadata": {},
   "source": [
    "cut out massive outliers:"
   ]
  },
  {
   "cell_type": "code",
   "execution_count": 619,
   "metadata": {
    "scrolled": true
   },
   "outputs": [
    {
     "data": {
      "image/png": "[encoded data removed]",
      "text/plain": [
       "<Figure size 432x288 with 1 Axes>"
      ]
     },
     "metadata": {
      "needs_background": "light"
     },
     "output_type": "display_data"
    }
   ],
   "source": [
    "plt.scatter(methane_04[\"Methane_Emissions\"], methane_04[\"GDP_Per_Capita\"])\n",
    "plt.xlim(0, 200000)\n",
    "plt.ylim(0, 80000)\n",
    "plt.ylabel(\"GDP Per Capita\")\n",
    "plt.xlabel(\"Methane Emissions\")\n",
    "plt.title(\"GDP Per Capita vs. Methane Emissions, 2004\")\n",
    "plt.show()"
   ]
  },
  {
   "cell_type": "code",
   "execution_count": 613,
   "metadata": {
    "scrolled": true
   },
   "outputs": [
    {
     "data": {
      "image/png": "[encoded data removed]",
      "text/plain": [
       "<Figure size 432x288 with 1 Axes>"
      ]
     },
     "metadata": {
      "needs_background": "light"
     },
     "output_type": "display_data"
    }
   ],
   "source": [
    "plt.scatter(methane_09[\"Methane_Emissions\"], methane_09[\"GDP_Per_Capita\"])\n",
    "plt.ylabel(\"GDP Per Capita\")\n",
    "plt.xlabel(\"Methane Emissions\")\n",
    "plt.title(\"GDP Per Capita vs. Methane Emissions, 2009\")\n",
    "plt.show()"
   ]
  },
  {
   "cell_type": "markdown",
   "metadata": {},
   "source": [
    "Cut out massive outliers:"
   ]
  },
  {
   "cell_type": "code",
   "execution_count": 618,
   "metadata": {
    "scrolled": true
   },
   "outputs": [
    {
     "data": {
      "image/png": "[encoded data removed]",
      "text/plain": [
       "<Figure size 432x288 with 1 Axes>"
      ]
     },
     "metadata": {
      "needs_background": "light"
     },
     "output_type": "display_data"
    }
   ],
   "source": [
    "plt.scatter(methane_09[\"Methane_Emissions\"], methane_09[\"GDP_Per_Capita\"])\n",
    "plt.xlim(0, 200000)\n",
    "plt.ylim(0, 80000)\n",
    "plt.ylabel(\"GDP Per Capita\")\n",
    "plt.xlabel(\"Methane Emissions\")\n",
    "plt.title(\"GDP Per Capita vs. Methane Emissions, 2009\")\n",
    "plt.show()"
   ]
  },
  {
   "cell_type": "code",
   "execution_count": 610,
   "metadata": {
    "scrolled": true
   },
   "outputs": [
    {
     "data": {
      "image/png": "[encoded data removed]",
      "text/plain": [
       "<Figure size 432x288 with 1 Axes>"
      ]
     },
     "metadata": {
      "needs_background": "light"
     },
     "output_type": "display_data"
    }
   ],
   "source": [
    "plt.scatter(methane_14[\"Methane_Emissions\"], methane_14[\"GDP_Per_Capita\"])\n",
    "plt.ylabel(\"GDP Per Capita\")\n",
    "plt.xlabel(\"Methane Emissions\")\n",
    "plt.title(\"GDP Per Capita vs. Methane Emissions, 2014\")\n",
    "plt.show()"
   ]
  },
  {
   "cell_type": "markdown",
   "metadata": {},
   "source": [
    "cut out massive outliers:"
   ]
  },
  {
   "cell_type": "code",
   "execution_count": 617,
   "metadata": {},
   "outputs": [
    {
     "data": {
      "image/png": "[encoded data removed]",
      "text/plain": [
       "<Figure size 432x288 with 1 Axes>"
      ]
     },
     "metadata": {
      "needs_background": "light"
     },
     "output_type": "display_data"
    }
   ],
   "source": [
    "plt.scatter(methane_14[\"Methane_Emissions\"], methane_14[\"GDP_Per_Capita\"])\n",
    "plt.xlim(0, 200000)\n",
    "plt.ylim(0, 80000)\n",
    "plt.ylabel(\"GDP Per Capita\")\n",
    "plt.xlabel(\"Methane Emissions\")\n",
    "plt.title(\"GDP Per Capita vs. Methane Emissions, 2014\")\n",
    "plt.show()"
   ]
  },
  {
   "cell_type": "markdown",
   "metadata": {},
   "source": [
    "Minus some big outliers, there seems to be more of a correlation between gdp and methane emissions than with internet or gdp and equity, with higher GDP countries tending to have higher methane emissions."
   ]
  },
  {
   "cell_type": "code",
   "execution_count": 622,
   "metadata": {},
   "outputs": [],
   "source": [
    "methane_joined_14 = pd.merge(gdp_and_internet_use, methane_df, on=[\"Country\", \"Year\"], how=\"right\")\n",
    "methane_joined_14 = methane_joined_14[methane_joined_14[\"Year\"] == 2014]"
   ]
  },
  {
   "cell_type": "markdown",
   "metadata": {},
   "source": [
    "Top 5 countries for GDP (that had a value for methane_emissions): Luxembourg, Norway, Switzerland, United States, Ireland"
   ]
  },
  {
   "cell_type": "code",
   "execution_count": 625,
   "metadata": {},
   "outputs": [
    {
     "name": "stdout",
     "output_type": "stream",
     "text": [
      "            Country  Year  GDP_Per_Capita  Internet_Users_Pct  \\\n",
      "601      Luxembourg  2014    92349.186429               94.67   \n",
      "713          Norway  2014    63328.259526               96.30   \n",
      "909     Switzerland  2014    57218.023232               87.00   \n",
      "1021  United States  2014    52080.792568               87.36   \n",
      "470         Ireland  2014    48638.335926               79.69   \n",
      "\n",
      "      Methane_Emissions  \n",
      "601          575.601470  \n",
      "713         5300.558869  \n",
      "909         4987.130299  \n",
      "1021      662064.220621  \n",
      "470        12980.719567  \n"
     ]
    }
   ],
   "source": [
    "print(methane_joined_14.sort_values(by=[\"GDP_Per_Capita\"], ascending=False).head(5))"
   ]
  },
  {
   "cell_type": "code",
   "execution_count": 634,
   "metadata": {},
   "outputs": [],
   "source": [
    "methane_Lux = methane_joined_df[methane_joined_df[\"Country\"].isin([\"Luxembourg\"])]\n",
    "methane_Lux = methane_Lux[methane_Lux[\"Year\"].isin([2004, 2005, 2006, 2007, 2008, 2009, 2010, 2011, 2012, 2013, 2014])]\n",
    "\n",
    "methane_Nor = methane_joined_df[methane_joined_df[\"Country\"].isin([\"Norway\"])]\n",
    "methane_Nor = methane_Nor[methane_Nor[\"Year\"].isin([2004, 2005, 2006, 2007, 2008, 2009, 2010, 2011, 2012, 2013, 2014])]\n",
    "\n",
    "methane_Swi = methane_joined_df[methane_joined_df[\"Country\"].isin([\"Switzerland\"])]\n",
    "methane_Swi = methane_Swi[methane_Swi[\"Year\"].isin([2004, 2005, 2006, 2007, 2008, 2009, 2010, 2011, 2012, 2013, 2014])]\n",
    "\n",
    "methane_US = methane_joined_df[methane_joined_df[\"Country\"].isin([\"United States\"])]\n",
    "methane_US = methane_US[methane_US[\"Year\"].isin([2004, 2005, 2006, 2007, 2008, 2009, 2010, 2011, 2012, 2013, 2014])]\n",
    "\n",
    "methane_Ire = methane_joined_df[methane_joined_df[\"Country\"].isin([\"Ireland\"])]\n",
    "methane_Ire = methane_Ire[methane_Ire[\"Year\"].isin([2004, 2005, 2006, 2007, 2008, 2009, 2010, 2011, 2012, 2013, 2014])]"
   ]
  },
  {
   "cell_type": "code",
   "execution_count": 636,
   "metadata": {},
   "outputs": [
    {
     "name": "stdout",
     "output_type": "stream",
     "text": [
      "         Country  Year  GDP_Per_Capita  Internet_Users_Pct  Methane_Emissions\n",
      "3610  Luxembourg  2014    92349.186429           94.670000         575.601470\n",
      "3611  Luxembourg  2013    90656.380431           93.776500         562.840806\n",
      "3612  Luxembourg  2012    89505.159080           91.949924         558.562802\n",
      "3613  Luxembourg  2011    92005.016836           90.029859         566.590759\n",
      "3614  Luxembourg  2010    91743.293852           90.620000         590.989599\n",
      "3615  Luxembourg  2009    89098.734264           87.310000         590.975330\n",
      "3616  Luxembourg  2008    94900.346693           82.230000         589.294897\n",
      "3617  Luxembourg  2007    97864.195077           78.920000         578.988405\n",
      "3618  Luxembourg  2006    91724.182406           72.510000         569.994138\n",
      "3619  Luxembourg  2005    88610.289878           70.000000         573.524330\n",
      "3620  Luxembourg  2004    87209.819367           65.880000         574.395765\n",
      "     Country  Year  GDP_Per_Capita  Internet_Users_Pct  Methane_Emissions\n",
      "4530  Norway  2014    63328.259526           96.300000        5300.558869\n",
      "4531  Norway  2013    62809.418409           95.053400        5211.048853\n",
      "4532  Norway  2012    62922.815422           94.649978        5182.471212\n",
      "4533  Norway  2011    62076.740658           93.489983        5222.569268\n",
      "4534  Norway  2010    62276.018906           93.390000        5380.081433\n",
      "4535  Norway  2009    62617.153609           92.080000        5362.224589\n",
      "4536  Norway  2008    64526.216938           90.570000        5327.106669\n",
      "4537  Norway  2007    65025.691557           86.930000        5471.410157\n",
      "4538  Norway  2006    63791.936694           82.550000        5356.231502\n",
      "4539  Norway  2005    62800.701375           81.990000        5480.147966\n",
      "4540  Norway  2004    61612.275634           77.690000        5682.001618\n",
      "          Country  Year  GDP_Per_Capita  Internet_Users_Pct  Methane_Emissions\n",
      "5871  Switzerland  2014    57218.023232           87.000000        4987.130299\n",
      "5872  Switzerland  2013    56535.756695           86.340000        4987.490814\n",
      "5873  Switzerland  2012    56149.689768           85.200000        5049.510220\n",
      "5874  Switzerland  2011    56183.821624           85.193028        5075.278451\n",
      "5875  Switzerland  2010    55866.325109           83.900000        5126.894447\n",
      "5876  Switzerland  2009    54805.546199           81.300000        5157.094041\n",
      "5877  Switzerland  2008    56755.806657           79.200000        5249.699636\n",
      "5878  Switzerland  2007    56269.102023           77.200000        5173.951193\n",
      "5879  Switzerland  2006    54531.998552           75.700000        5194.633158\n",
      "5880  Switzerland  2005    52770.428667           70.100000        5182.209069\n",
      "5881  Switzerland  2004    51505.074853           67.800000        5166.590570\n",
      "            Country  Year  GDP_Per_Capita  Internet_Users_Pct  \\\n",
      "6389  United States  2014    52080.792568           87.360000   \n",
      "6390  United States  2013    51208.892428           84.200000   \n",
      "6391  United States  2012    50632.443448           79.300000   \n",
      "6392  United States  2011    49883.113984           69.729461   \n",
      "6393  United States  2010    49479.248679           71.690000   \n",
      "6394  United States  2009    48644.151110           71.000000   \n",
      "6395  United States  2008    50349.715322           74.000000   \n",
      "6396  United States  2007    50897.731238           75.000000   \n",
      "6397  United States  2006    50437.806235           68.931193   \n",
      "6398  United States  2005    49512.926789           67.968053   \n",
      "6399  United States  2004    48275.386104           64.758256   \n",
      "\n",
      "      Methane_Emissions  \n",
      "6389      662064.220621  \n",
      "6390      663042.641153  \n",
      "6391      665372.403524  \n",
      "6392      675544.901685  \n",
      "6393      697450.403532  \n",
      "6394      692676.127285  \n",
      "6395      702303.384076  \n",
      "6396      694607.583656  \n",
      "6397      691977.797639  \n",
      "6398      691430.647690  \n",
      "6399      687548.988671  \n",
      "      Country  Year  GDP_Per_Capita  Internet_Users_Pct  Methane_Emissions\n",
      "2841  Ireland  2014    48638.335926           79.690000       12980.719567\n",
      "2842  Ireland  2013    45133.272247           78.247700       12674.489933\n",
      "2843  Ireland  2012    44766.472196           76.919993       12337.300701\n",
      "2844  Ireland  2011    44855.324701           74.889973       12033.141641\n",
      "2845  Ireland  2010    44897.158355           69.850000       12068.982493\n",
      "2846  Ireland  2009    44339.920096           67.380000       12309.986972\n",
      "2847  Ireland  2008    47189.409607           65.340000       12684.290706\n",
      "2848  Ireland  2007    50420.363153           61.158325       12884.229254\n",
      "2849  Ireland  2006    49275.700034           54.820000       13538.014950\n",
      "2850  Ireland  2005    48179.129617           41.610000       13590.518269\n",
      "2851  Ireland  2004    46584.944558           36.990000       13911.174534\n"
     ]
    }
   ],
   "source": [
    "print(methane_Lux)\n",
    "print(methane_Nor)\n",
    "print(methane_Swi)\n",
    "print(methane_US)\n",
    "print(methane_Ire)"
   ]
  },
  {
   "cell_type": "code",
   "execution_count": 643,
   "metadata": {},
   "outputs": [
    {
     "data": {
      "image/png": "[encoded data removed]",
      "text/plain": [
       "<Figure size 432x288 with 1 Axes>"
      ]
     },
     "metadata": {
      "needs_background": "light"
     },
     "output_type": "display_data"
    }
   ],
   "source": [
    "plt.plot(methane_Lux[\"Year\"], methane_Lux[\"Methane_Emissions\"], color=\"blue\", label=\"Luxembourg\")\n",
    "plt.plot(methane_Nor[\"Year\"], methane_Nor[\"Methane_Emissions\"], color=\"red\", label=\"Norway\")\n",
    "plt.plot(methane_Swi[\"Year\"], methane_Swi[\"Methane_Emissions\"], color=\"purple\", label=\"Switzerland\")\n",
    "plt.plot(methane_Ire[\"Year\"], methane_Ire[\"Methane_Emissions\"], color=\"green\", label=\"Ireland\")\n",
    "plt.ylabel(\"Methane_Emissions\")\n",
    "plt.xlabel(\"Year\")\n",
    "plt.legend()\n",
    "plt.title(\"Methane Emissions Per Year, Top 5 (Except US)\")\n",
    "plt.show()"
   ]
  },
  {
   "cell_type": "markdown",
   "metadata": {},
   "source": [
    "US kept out of plot so as to not skew the chart scale"
   ]
  },
  {
   "cell_type": "code",
   "execution_count": 640,
   "metadata": {},
   "outputs": [
    {
     "data": {
      "image/png": "[encoded data removed]",
      "text/plain": [
       "<Figure size 432x288 with 1 Axes>"
      ]
     },
     "metadata": {
      "needs_background": "light"
     },
     "output_type": "display_data"
    }
   ],
   "source": [
    "plt.plot(methane_US[\"Year\"], methane_US[\"Methane_Emissions\"])\n",
    "plt.ylabel(\"Methane_Emissions\")\n",
    "plt.xlabel(\"Year\")\n",
    "plt.title(\"Methane Emissions Per Year, United States\")\n",
    "plt.show()"
   ]
  },
  {
   "cell_type": "markdown",
   "metadata": {},
   "source": [
    "Starting in 2011, the US began regulating Greenhouse Gases under the Clear Air Act."
   ]
  }
 ],
 "metadata": {
  "kernelspec": {
   "display_name": "Python 3",
   "language": "python",
   "name": "python3"
  },
  "language_info": {
   "codemirror_mode": {
    "name": "ipython",
    "version": 3
   },
   "file_extension": ".py",
   "mimetype": "text/x-python",
   "name": "python",
   "nbconvert_exporter": "python",
   "pygments_lexer": "ipython3",
   "version": "3.7.6"
  }
 },
 "nbformat": 4,
 "nbformat_minor": 4
}
